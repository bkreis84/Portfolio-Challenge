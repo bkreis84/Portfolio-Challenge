{
 "cells": [
  {
   "cell_type": "code",
   "execution_count": 2,
   "metadata": {
    "collapsed": true,
    "scrolled": true
   },
   "outputs": [],
   "source": [
    "import os\n",
    "import pandas as pd\n",
    "import numpy as np\n",
    "import pandas_datareader\n",
    "from pandas_datareader import data as pdr\n",
    "from datetime import datetime, timedelta\n",
    "import yfinance as yf\n",
    "\n",
    "def stockData(sList, stDate, endDate):\n",
    "    \"\"\"Take list of stocks and pull data for that stock and create technical indicator variables\n",
    "    sList requires list of stocks, dates should be entered in format 'YYYY-MM-DD' \"\"\"\n",
    "   \n",
    "    data = []\n",
    "    for element in sList:\n",
    "        try:\n",
    "            temp = pdr.get_data_yahoo(element, start = stDate, end = endDate)\n",
    "            #add an indentifier\n",
    "            temp['Symbol'] = element\n",
    "            temp['Close'] = temp['Close']\n",
    "        except: \n",
    "            #If stock symbol cannot be found make it $1\n",
    "            print (element)\n",
    "            temp['Symbol'] = element\n",
    "            temp['Close'] = 1\n",
    "        else:\n",
    "        #add data to list \n",
    "            data.append(temp)\n",
    "        #convert to dataframe    \n",
    "        df = pd.concat(data)\n",
    "        #drop rows for which we will not have all data points calculated\n",
    "        df = df.dropna()\n",
    "        #dates above what user entered\n",
    "        df = df.loc[stDate : endDate]\n",
    "        #order and limit columns to those needed\n",
    "        df = df.loc[:, ['Symbol', 'Close']]\n",
    "        df['Day'] = pd.to_datetime(df.index)\n",
    "\n",
    "    \n",
    "    return(df)\n"
   ]
  },
  {
   "cell_type": "code",
   "execution_count": 2,
   "metadata": {
    "collapsed": true
   },
   "outputs": [],
   "source": [
    "#set working directory \n",
    "os.chdir(\"/Users/bkrei/Desktop/Bk's Stuff Desktop/School/Github NEW PATH/Portfolio-Challenge\")"
   ]
  },
  {
   "cell_type": "code",
   "execution_count": 3,
   "metadata": {
    "collapsed": true
   },
   "outputs": [],
   "source": [
    "#Read in individual portfolios\n",
    "portfolios = pd.read_csv(\"https://raw.githubusercontent.com/bkreis84/Portfolio-Challenge/master/Portfolios.csv\")"
   ]
  },
  {
   "cell_type": "code",
   "execution_count": 14,
   "metadata": {},
   "outputs": [
    {
     "data": {
      "text/plain": [
       "0       AAPL\n",
       "1      AGTHX\n",
       "2       AMZN\n",
       "3        CHE\n",
       "4       DOCU\n",
       "5      GSGRX\n",
       "6       ICLN\n",
       "7      OEGAX\n",
       "8       PBFS\n",
       "9        QQQ\n",
       "10       SPY\n",
       "13     BRK-B\n",
       "14     CMCSA\n",
       "15       CVS\n",
       "16       DIS\n",
       "17        GE\n",
       "18       JNJ\n",
       "19       JPM\n",
       "20      NFLX\n",
       "22      SBUX\n",
       "23       XOM\n",
       "28        BA\n",
       "29         C\n",
       "30      CHWY\n",
       "31      CVRS\n",
       "32      DELL\n",
       "33       IAG\n",
       "37       BAM\n",
       "38       BEP\n",
       "39       CGC\n",
       "       ...  \n",
       "382       KR\n",
       "383     UUUU\n",
       "384     ZIXI\n",
       "385     Lulu\n",
       "390      MTZ\n",
       "393     goog\n",
       "394      Dis\n",
       "397      NOC\n",
       "399      TPL\n",
       "401     ANET\n",
       "402     INGN\n",
       "403      MED\n",
       "404     SIVB\n",
       "405     ALXN\n",
       "407      RTN\n",
       "409     ACST\n",
       "411      DNR\n",
       "413       NM\n",
       "423       JP\n",
       "426        X\n",
       "441     CELG\n",
       "442     COUP\n",
       "443     CTSH\n",
       "449     FTNT\n",
       "450      HON\n",
       "473      SAM\n",
       "477      CXO\n",
       "478     GWPH\n",
       "480     MOMO\n",
       "482     RVNC\n",
       "Name: Symbol, Length: 238, dtype: object"
      ]
     },
     "execution_count": 14,
     "metadata": {},
     "output_type": "execute_result"
    }
   ],
   "source": [
    "#List of all ticker symbols\n",
    "symbols = portfolios['Symbol'].drop_duplicates()\n",
    "symbols.head(300)"
   ]
  },
  {
   "cell_type": "code",
   "execution_count": 9,
   "metadata": {
    "collapsed": true
   },
   "outputs": [],
   "source": [
    "symbols.to_csv(\"symbols.csv\", header = False)"
   ]
  },
  {
   "cell_type": "code",
   "execution_count": 10,
   "metadata": {},
   "outputs": [
    {
     "name": "stdout",
     "output_type": "stream",
     "text": [
      "CASHPIO\n"
     ]
    },
    {
     "data": {
      "text/plain": [
       "(237, 3)"
      ]
     },
     "execution_count": 10,
     "metadata": {},
     "output_type": "execute_result"
    }
   ],
   "source": [
    "#Pass the ticker list to the function, print invalid stock symbols and create dataframe with intial prices\n",
    "beg_prices = stockData(list(symbols), '2019-09-06', '2019-09-06')\n",
    "beg_prices.shape"
   ]
  },
  {
   "cell_type": "code",
   "execution_count": 12,
   "metadata": {
    "collapsed": true
   },
   "outputs": [],
   "source": [
    "#Pull SNAP which for some reason is the only stock with an issue.\n",
    "er = stockData(['SNAP'], '2019-09-06', '2019-09-06')"
   ]
  },
  {
   "cell_type": "code",
   "execution_count": 13,
   "metadata": {
    "collapsed": true
   },
   "outputs": [],
   "source": [
    "#Combine the main and SNAP dataframes\n",
    "frames = [beg_prices, er]\n",
    "beg_prices = pd.concat(frames)"
   ]
  },
  {
   "cell_type": "code",
   "execution_count": 15,
   "metadata": {},
   "outputs": [],
   "source": [
    "beg_prices.to_csv(\"beg_prices.csv\")"
   ]
  },
  {
   "cell_type": "code",
   "execution_count": 4,
   "metadata": {
    "collapsed": true
   },
   "outputs": [],
   "source": [
    "beg_prices = pd.read_csv(\"https://raw.githubusercontent.com/bkreis84/Portfolio-Challenge/master/beg_prices.csv\")\n",
    "combined = pd.merge(portfolios, beg_prices, how = 'left', on = \"Symbol\", validate=\"many_to_one\")"
   ]
  },
  {
   "cell_type": "code",
   "execution_count": 5,
   "metadata": {},
   "outputs": [
    {
     "data": {
      "text/html": [
       "<div>\n",
       "<style scoped>\n",
       "    .dataframe tbody tr th:only-of-type {\n",
       "        vertical-align: middle;\n",
       "    }\n",
       "\n",
       "    .dataframe tbody tr th {\n",
       "        vertical-align: top;\n",
       "    }\n",
       "\n",
       "    .dataframe thead th {\n",
       "        text-align: right;\n",
       "    }\n",
       "</style>\n",
       "<table border=\"1\" class=\"dataframe\">\n",
       "  <thead>\n",
       "    <tr style=\"text-align: right;\">\n",
       "      <th></th>\n",
       "      <th>Name</th>\n",
       "      <th>Symbol</th>\n",
       "      <th>% of Portfolio</th>\n",
       "      <th>Cost Basis</th>\n",
       "      <th>Date</th>\n",
       "      <th>Close</th>\n",
       "      <th>Day</th>\n",
       "    </tr>\n",
       "  </thead>\n",
       "  <tbody>\n",
       "    <tr>\n",
       "      <th>0</th>\n",
       "      <td>Adrienne Villano</td>\n",
       "      <td>AAPL</td>\n",
       "      <td>0.07</td>\n",
       "      <td>14000</td>\n",
       "      <td>2019-09-06</td>\n",
       "      <td>213.259995</td>\n",
       "      <td>2019-09-06</td>\n",
       "    </tr>\n",
       "    <tr>\n",
       "      <th>1</th>\n",
       "      <td>Adrienne Villano</td>\n",
       "      <td>AGTHX</td>\n",
       "      <td>0.11</td>\n",
       "      <td>22000</td>\n",
       "      <td>2019-09-06</td>\n",
       "      <td>50.000000</td>\n",
       "      <td>2019-09-06</td>\n",
       "    </tr>\n",
       "    <tr>\n",
       "      <th>2</th>\n",
       "      <td>Adrienne Villano</td>\n",
       "      <td>AMZN</td>\n",
       "      <td>0.07</td>\n",
       "      <td>14000</td>\n",
       "      <td>2019-09-06</td>\n",
       "      <td>1833.510010</td>\n",
       "      <td>2019-09-06</td>\n",
       "    </tr>\n",
       "    <tr>\n",
       "      <th>3</th>\n",
       "      <td>Adrienne Villano</td>\n",
       "      <td>CHE</td>\n",
       "      <td>0.18</td>\n",
       "      <td>36000</td>\n",
       "      <td>2019-09-06</td>\n",
       "      <td>439.820007</td>\n",
       "      <td>2019-09-06</td>\n",
       "    </tr>\n",
       "    <tr>\n",
       "      <th>4</th>\n",
       "      <td>Adrienne Villano</td>\n",
       "      <td>DOCU</td>\n",
       "      <td>0.05</td>\n",
       "      <td>10000</td>\n",
       "      <td>2019-09-06</td>\n",
       "      <td>56.270000</td>\n",
       "      <td>2019-09-06</td>\n",
       "    </tr>\n",
       "  </tbody>\n",
       "</table>\n",
       "</div>"
      ],
      "text/plain": [
       "               Name Symbol % of Portfolio  Cost Basis        Date  \\\n",
       "0  Adrienne Villano   AAPL           0.07       14000  2019-09-06   \n",
       "1  Adrienne Villano  AGTHX           0.11       22000  2019-09-06   \n",
       "2  Adrienne Villano   AMZN           0.07       14000  2019-09-06   \n",
       "3  Adrienne Villano    CHE           0.18       36000  2019-09-06   \n",
       "4  Adrienne Villano   DOCU           0.05       10000  2019-09-06   \n",
       "\n",
       "         Close         Day  \n",
       "0   213.259995  2019-09-06  \n",
       "1    50.000000  2019-09-06  \n",
       "2  1833.510010  2019-09-06  \n",
       "3   439.820007  2019-09-06  \n",
       "4    56.270000  2019-09-06  "
      ]
     },
     "execution_count": 5,
     "metadata": {},
     "output_type": "execute_result"
    }
   ],
   "source": [
    "combined.head(5)"
   ]
  },
  {
   "cell_type": "code",
   "execution_count": 6,
   "metadata": {
    "collapsed": true
   },
   "outputs": [],
   "source": [
    "#Calc # of shares purchased\n",
    "combined[\"# of Shares\"] = combined[\"Cost Basis\"]/ combined[\"Close\"]\n",
    "#Convert names to proper case\n",
    "#combined['Name'] = list(map(lambda x: x.title(), combined['Name']))\n",
    "#combined.head()"
   ]
  },
  {
   "cell_type": "code",
   "execution_count": 20,
   "metadata": {
    "collapsed": true
   },
   "outputs": [],
   "source": [
    "combined.to_csv(\"initial portfolios.csv\")"
   ]
  },
  {
   "cell_type": "markdown",
   "metadata": {},
   "source": [
    "# Simple Comparison (Initial vs Current Value) START HERE TO UPDATE"
   ]
  },
  {
   "cell_type": "code",
   "execution_count": 15,
   "metadata": {},
   "outputs": [
    {
     "name": "stdout",
     "output_type": "stream",
     "text": [
      "TSS\n",
      "CASHPIO\n"
     ]
    }
   ],
   "source": [
    "#Select date to compare to initial prices\n",
    "cur_prices = stockData(list(symbols), '2019-09-19', '2019-09-19')"
   ]
  },
  {
   "cell_type": "code",
   "execution_count": 36,
   "metadata": {},
   "outputs": [
    {
     "name": "stdout",
     "output_type": "stream",
     "text": [
      "TSS\n"
     ]
    }
   ],
   "source": [
    "#Pull SNAP which for some reason is the only stock with an issue.\n",
    "er2 =  stockData(['SNAP'], '2019-09-19', '2019-09-19')"
   ]
  },
  {
   "cell_type": "code",
   "execution_count": 37,
   "metadata": {
    "collapsed": true
   },
   "outputs": [],
   "source": [
    "#Combine the main and SNAP dataframes\n",
    "frames2 = [cur_prices, er2]\n",
    "cur_prices = pd.concat(frames2)"
   ]
  },
  {
   "cell_type": "code",
   "execution_count": 38,
   "metadata": {
    "collapsed": true
   },
   "outputs": [],
   "source": [
    "cur_prices.sort_values(\"Symbol\", inplace = True)\n",
    "cur_prices.drop_duplicates(subset = \"Symbol\", inplace = True)"
   ]
  },
  {
   "cell_type": "code",
   "execution_count": 39,
   "metadata": {
    "collapsed": true
   },
   "outputs": [],
   "source": [
    "cur_prices.to_csv(\"cur_prices.csv\")"
   ]
  },
  {
   "cell_type": "code",
   "execution_count": 12,
   "metadata": {},
   "outputs": [
    {
     "data": {
      "text/html": [
       "<div>\n",
       "<style scoped>\n",
       "    .dataframe tbody tr th:only-of-type {\n",
       "        vertical-align: middle;\n",
       "    }\n",
       "\n",
       "    .dataframe tbody tr th {\n",
       "        vertical-align: top;\n",
       "    }\n",
       "\n",
       "    .dataframe thead th {\n",
       "        text-align: right;\n",
       "    }\n",
       "</style>\n",
       "<table border=\"1\" class=\"dataframe\">\n",
       "  <thead>\n",
       "    <tr style=\"text-align: right;\">\n",
       "      <th></th>\n",
       "      <th>Date</th>\n",
       "      <th>Symbol</th>\n",
       "      <th>Close</th>\n",
       "      <th>Day</th>\n",
       "    </tr>\n",
       "  </thead>\n",
       "  <tbody>\n",
       "    <tr>\n",
       "      <th>0</th>\n",
       "      <td>2019-09-12</td>\n",
       "      <td>AAL</td>\n",
       "      <td>29.940001</td>\n",
       "      <td>2019-09-12</td>\n",
       "    </tr>\n",
       "    <tr>\n",
       "      <th>1</th>\n",
       "      <td>2019-09-12</td>\n",
       "      <td>AAPL</td>\n",
       "      <td>223.089996</td>\n",
       "      <td>2019-09-12</td>\n",
       "    </tr>\n",
       "    <tr>\n",
       "      <th>2</th>\n",
       "      <td>2019-09-12</td>\n",
       "      <td>ACB</td>\n",
       "      <td>5.890000</td>\n",
       "      <td>2019-09-12</td>\n",
       "    </tr>\n",
       "    <tr>\n",
       "      <th>3</th>\n",
       "      <td>2019-09-12</td>\n",
       "      <td>ACER</td>\n",
       "      <td>3.160000</td>\n",
       "      <td>2019-09-12</td>\n",
       "    </tr>\n",
       "    <tr>\n",
       "      <th>4</th>\n",
       "      <td>2019-09-12</td>\n",
       "      <td>ACST</td>\n",
       "      <td>2.150000</td>\n",
       "      <td>2019-09-12</td>\n",
       "    </tr>\n",
       "  </tbody>\n",
       "</table>\n",
       "</div>"
      ],
      "text/plain": [
       "         Date Symbol       Close         Day\n",
       "0  2019-09-12    AAL   29.940001  2019-09-12\n",
       "1  2019-09-12   AAPL  223.089996  2019-09-12\n",
       "2  2019-09-12    ACB    5.890000  2019-09-12\n",
       "3  2019-09-12   ACER    3.160000  2019-09-12\n",
       "4  2019-09-12   ACST    2.150000  2019-09-12"
      ]
     },
     "execution_count": 12,
     "metadata": {},
     "output_type": "execute_result"
    }
   ],
   "source": [
    "cur_prices= pd.read_csv(\"https://raw.githubusercontent.com/bkreis84/Portfolio-Challenge/master/cur_prices.csv\")\n",
    "cur_prices.head()\n"
   ]
  },
  {
   "cell_type": "code",
   "execution_count": 41,
   "metadata": {
    "collapsed": true
   },
   "outputs": [],
   "source": [
    "detail = pd.merge(combined, cur_prices, how = 'left', on = \"Symbol\", validate=\"many_to_one\")"
   ]
  },
  {
   "cell_type": "code",
   "execution_count": 42,
   "metadata": {},
   "outputs": [
    {
     "data": {
      "text/html": [
       "<div>\n",
       "<style scoped>\n",
       "    .dataframe tbody tr th:only-of-type {\n",
       "        vertical-align: middle;\n",
       "    }\n",
       "\n",
       "    .dataframe tbody tr th {\n",
       "        vertical-align: top;\n",
       "    }\n",
       "\n",
       "    .dataframe thead th {\n",
       "        text-align: right;\n",
       "    }\n",
       "</style>\n",
       "<table border=\"1\" class=\"dataframe\">\n",
       "  <thead>\n",
       "    <tr style=\"text-align: right;\">\n",
       "      <th></th>\n",
       "      <th>Name</th>\n",
       "      <th>Symbol</th>\n",
       "      <th>% of Portfolio</th>\n",
       "      <th>Cost Basis</th>\n",
       "      <th>Close_x</th>\n",
       "      <th>Day_x</th>\n",
       "      <th># of Shares</th>\n",
       "      <th>Close_y</th>\n",
       "      <th>Day_y</th>\n",
       "    </tr>\n",
       "  </thead>\n",
       "  <tbody>\n",
       "    <tr>\n",
       "      <th>0</th>\n",
       "      <td>Adrienne Villano</td>\n",
       "      <td>AAPL</td>\n",
       "      <td>0.07</td>\n",
       "      <td>14000</td>\n",
       "      <td>213.259995</td>\n",
       "      <td>2019-09-06</td>\n",
       "      <td>65.647568</td>\n",
       "      <td>220.960007</td>\n",
       "      <td>2019-09-19</td>\n",
       "    </tr>\n",
       "    <tr>\n",
       "      <th>1</th>\n",
       "      <td>Adrienne Villano</td>\n",
       "      <td>AGTHX</td>\n",
       "      <td>0.11</td>\n",
       "      <td>22000</td>\n",
       "      <td>50.000000</td>\n",
       "      <td>2019-09-06</td>\n",
       "      <td>440.000000</td>\n",
       "      <td>50.560001</td>\n",
       "      <td>2019-09-19</td>\n",
       "    </tr>\n",
       "    <tr>\n",
       "      <th>2</th>\n",
       "      <td>Adrienne Villano</td>\n",
       "      <td>AMZN</td>\n",
       "      <td>0.07</td>\n",
       "      <td>14000</td>\n",
       "      <td>1833.510010</td>\n",
       "      <td>2019-09-06</td>\n",
       "      <td>7.635628</td>\n",
       "      <td>1821.500000</td>\n",
       "      <td>2019-09-19</td>\n",
       "    </tr>\n",
       "    <tr>\n",
       "      <th>3</th>\n",
       "      <td>Adrienne Villano</td>\n",
       "      <td>CHE</td>\n",
       "      <td>0.18</td>\n",
       "      <td>36000</td>\n",
       "      <td>439.820007</td>\n",
       "      <td>2019-09-06</td>\n",
       "      <td>81.851665</td>\n",
       "      <td>425.260010</td>\n",
       "      <td>2019-09-19</td>\n",
       "    </tr>\n",
       "    <tr>\n",
       "      <th>4</th>\n",
       "      <td>Adrienne Villano</td>\n",
       "      <td>DOCU</td>\n",
       "      <td>0.05</td>\n",
       "      <td>10000</td>\n",
       "      <td>56.270000</td>\n",
       "      <td>2019-09-06</td>\n",
       "      <td>177.714589</td>\n",
       "      <td>63.360001</td>\n",
       "      <td>2019-09-19</td>\n",
       "    </tr>\n",
       "  </tbody>\n",
       "</table>\n",
       "</div>"
      ],
      "text/plain": [
       "               Name Symbol % of Portfolio  Cost Basis      Close_x      Day_x  \\\n",
       "0  Adrienne Villano   AAPL           0.07       14000   213.259995 2019-09-06   \n",
       "1  Adrienne Villano  AGTHX           0.11       22000    50.000000 2019-09-06   \n",
       "2  Adrienne Villano   AMZN           0.07       14000  1833.510010 2019-09-06   \n",
       "3  Adrienne Villano    CHE           0.18       36000   439.820007 2019-09-06   \n",
       "4  Adrienne Villano   DOCU           0.05       10000    56.270000 2019-09-06   \n",
       "\n",
       "   # of Shares      Close_y      Day_y  \n",
       "0    65.647568   220.960007 2019-09-19  \n",
       "1   440.000000    50.560001 2019-09-19  \n",
       "2     7.635628  1821.500000 2019-09-19  \n",
       "3    81.851665   425.260010 2019-09-19  \n",
       "4   177.714589    63.360001 2019-09-19  "
      ]
     },
     "execution_count": 42,
     "metadata": {},
     "output_type": "execute_result"
    }
   ],
   "source": [
    "detail.head()"
   ]
  },
  {
   "cell_type": "code",
   "execution_count": 43,
   "metadata": {},
   "outputs": [
    {
     "data": {
      "text/html": [
       "<div>\n",
       "<style scoped>\n",
       "    .dataframe tbody tr th:only-of-type {\n",
       "        vertical-align: middle;\n",
       "    }\n",
       "\n",
       "    .dataframe tbody tr th {\n",
       "        vertical-align: top;\n",
       "    }\n",
       "\n",
       "    .dataframe thead th {\n",
       "        text-align: right;\n",
       "    }\n",
       "</style>\n",
       "<table border=\"1\" class=\"dataframe\">\n",
       "  <thead>\n",
       "    <tr style=\"text-align: right;\">\n",
       "      <th></th>\n",
       "      <th>Name</th>\n",
       "      <th>Symbol</th>\n",
       "      <th>% of Portfolio</th>\n",
       "      <th>Cost Basis</th>\n",
       "      <th>Close_x</th>\n",
       "      <th>Day_x</th>\n",
       "      <th># of Shares</th>\n",
       "      <th>Close_y</th>\n",
       "      <th>Day_y</th>\n",
       "      <th>Current_Value</th>\n",
       "      <th>Perc_Return</th>\n",
       "    </tr>\n",
       "  </thead>\n",
       "  <tbody>\n",
       "    <tr>\n",
       "      <th>0</th>\n",
       "      <td>Adrienne Villano</td>\n",
       "      <td>AAPL</td>\n",
       "      <td>0.07</td>\n",
       "      <td>14000</td>\n",
       "      <td>213.259995</td>\n",
       "      <td>2019-09-06</td>\n",
       "      <td>65.647568</td>\n",
       "      <td>220.960007</td>\n",
       "      <td>2019-09-19</td>\n",
       "      <td>14505.487075</td>\n",
       "      <td>0.036106</td>\n",
       "    </tr>\n",
       "    <tr>\n",
       "      <th>1</th>\n",
       "      <td>Adrienne Villano</td>\n",
       "      <td>AGTHX</td>\n",
       "      <td>0.11</td>\n",
       "      <td>22000</td>\n",
       "      <td>50.000000</td>\n",
       "      <td>2019-09-06</td>\n",
       "      <td>440.000000</td>\n",
       "      <td>50.560001</td>\n",
       "      <td>2019-09-19</td>\n",
       "      <td>22246.400604</td>\n",
       "      <td>0.011200</td>\n",
       "    </tr>\n",
       "    <tr>\n",
       "      <th>2</th>\n",
       "      <td>Adrienne Villano</td>\n",
       "      <td>AMZN</td>\n",
       "      <td>0.07</td>\n",
       "      <td>14000</td>\n",
       "      <td>1833.510010</td>\n",
       "      <td>2019-09-06</td>\n",
       "      <td>7.635628</td>\n",
       "      <td>1821.500000</td>\n",
       "      <td>2019-09-19</td>\n",
       "      <td>13908.296036</td>\n",
       "      <td>-0.006550</td>\n",
       "    </tr>\n",
       "    <tr>\n",
       "      <th>3</th>\n",
       "      <td>Adrienne Villano</td>\n",
       "      <td>CHE</td>\n",
       "      <td>0.18</td>\n",
       "      <td>36000</td>\n",
       "      <td>439.820007</td>\n",
       "      <td>2019-09-06</td>\n",
       "      <td>81.851665</td>\n",
       "      <td>425.260010</td>\n",
       "      <td>2019-09-19</td>\n",
       "      <td>34808.239954</td>\n",
       "      <td>-0.033104</td>\n",
       "    </tr>\n",
       "    <tr>\n",
       "      <th>4</th>\n",
       "      <td>Adrienne Villano</td>\n",
       "      <td>DOCU</td>\n",
       "      <td>0.05</td>\n",
       "      <td>10000</td>\n",
       "      <td>56.270000</td>\n",
       "      <td>2019-09-06</td>\n",
       "      <td>177.714589</td>\n",
       "      <td>63.360001</td>\n",
       "      <td>2019-09-19</td>\n",
       "      <td>11259.996463</td>\n",
       "      <td>0.126000</td>\n",
       "    </tr>\n",
       "  </tbody>\n",
       "</table>\n",
       "</div>"
      ],
      "text/plain": [
       "               Name Symbol % of Portfolio  Cost Basis      Close_x      Day_x  \\\n",
       "0  Adrienne Villano   AAPL           0.07       14000   213.259995 2019-09-06   \n",
       "1  Adrienne Villano  AGTHX           0.11       22000    50.000000 2019-09-06   \n",
       "2  Adrienne Villano   AMZN           0.07       14000  1833.510010 2019-09-06   \n",
       "3  Adrienne Villano    CHE           0.18       36000   439.820007 2019-09-06   \n",
       "4  Adrienne Villano   DOCU           0.05       10000    56.270000 2019-09-06   \n",
       "\n",
       "   # of Shares      Close_y      Day_y  Current_Value  Perc_Return  \n",
       "0    65.647568   220.960007 2019-09-19   14505.487075     0.036106  \n",
       "1   440.000000    50.560001 2019-09-19   22246.400604     0.011200  \n",
       "2     7.635628  1821.500000 2019-09-19   13908.296036    -0.006550  \n",
       "3    81.851665   425.260010 2019-09-19   34808.239954    -0.033104  \n",
       "4   177.714589    63.360001 2019-09-19   11259.996463     0.126000  "
      ]
     },
     "execution_count": 43,
     "metadata": {},
     "output_type": "execute_result"
    }
   ],
   "source": [
    "detail['Current_Value'] = detail['Close_y'] * detail['# of Shares']\n",
    "detail['Perc_Return'] = detail['Close_y']/detail['Close_x']  -1\n",
    "detail.head(5)"
   ]
  },
  {
   "cell_type": "code",
   "execution_count": 44,
   "metadata": {
    "collapsed": true
   },
   "outputs": [],
   "source": [
    "detail.to_csv(\"detail.csv\")"
   ]
  },
  {
   "cell_type": "markdown",
   "metadata": {},
   "source": [
    "### Individual Performance"
   ]
  },
  {
   "cell_type": "code",
   "execution_count": 45,
   "metadata": {
    "collapsed": true
   },
   "outputs": [],
   "source": [
    "ranking = detail.groupby(\"Name\")['Cost Basis', 'Current_Value'].sum().reset_index().sort_values(\"Current_Value\", ascending=False)"
   ]
  },
  {
   "cell_type": "code",
   "execution_count": 46,
   "metadata": {
    "scrolled": true
   },
   "outputs": [
    {
     "data": {
      "text/html": [
       "<div>\n",
       "<style scoped>\n",
       "    .dataframe tbody tr th:only-of-type {\n",
       "        vertical-align: middle;\n",
       "    }\n",
       "\n",
       "    .dataframe tbody tr th {\n",
       "        vertical-align: top;\n",
       "    }\n",
       "\n",
       "    .dataframe thead th {\n",
       "        text-align: right;\n",
       "    }\n",
       "</style>\n",
       "<table border=\"1\" class=\"dataframe\">\n",
       "  <thead>\n",
       "    <tr style=\"text-align: right;\">\n",
       "      <th></th>\n",
       "      <th>Name</th>\n",
       "      <th>Cost Basis</th>\n",
       "      <th>Current_Value</th>\n",
       "      <th>Perc_Return</th>\n",
       "      <th>Rank</th>\n",
       "    </tr>\n",
       "  </thead>\n",
       "  <tbody>\n",
       "    <tr>\n",
       "      <th>12</th>\n",
       "      <td>Colton Young</td>\n",
       "      <td>200000</td>\n",
       "      <td>227517.278304</td>\n",
       "      <td>0.137586</td>\n",
       "      <td>1.0</td>\n",
       "    </tr>\n",
       "    <tr>\n",
       "      <th>23</th>\n",
       "      <td>JOELEAN MCBRIDE</td>\n",
       "      <td>200000</td>\n",
       "      <td>220323.620583</td>\n",
       "      <td>0.101618</td>\n",
       "      <td>2.0</td>\n",
       "    </tr>\n",
       "    <tr>\n",
       "      <th>47</th>\n",
       "      <td>Robert Kovacs</td>\n",
       "      <td>200000</td>\n",
       "      <td>218764.317391</td>\n",
       "      <td>0.093822</td>\n",
       "      <td>3.0</td>\n",
       "    </tr>\n",
       "    <tr>\n",
       "      <th>45</th>\n",
       "      <td>Randy Benedict</td>\n",
       "      <td>200000</td>\n",
       "      <td>212029.947785</td>\n",
       "      <td>0.060150</td>\n",
       "      <td>4.0</td>\n",
       "    </tr>\n",
       "    <tr>\n",
       "      <th>54</th>\n",
       "      <td>Trudy Seeber</td>\n",
       "      <td>200000</td>\n",
       "      <td>210778.845822</td>\n",
       "      <td>0.053894</td>\n",
       "      <td>5.0</td>\n",
       "    </tr>\n",
       "    <tr>\n",
       "      <th>42</th>\n",
       "      <td>Pete Lindner</td>\n",
       "      <td>200000</td>\n",
       "      <td>210389.476981</td>\n",
       "      <td>0.051947</td>\n",
       "      <td>6.0</td>\n",
       "    </tr>\n",
       "    <tr>\n",
       "      <th>27</th>\n",
       "      <td>Joseph Lindner</td>\n",
       "      <td>200000</td>\n",
       "      <td>210154.001817</td>\n",
       "      <td>0.050770</td>\n",
       "      <td>7.0</td>\n",
       "    </tr>\n",
       "    <tr>\n",
       "      <th>19</th>\n",
       "      <td>Elise Shaver</td>\n",
       "      <td>200000</td>\n",
       "      <td>209420.857026</td>\n",
       "      <td>0.047104</td>\n",
       "      <td>8.0</td>\n",
       "    </tr>\n",
       "    <tr>\n",
       "      <th>37</th>\n",
       "      <td>Marie Barkamian</td>\n",
       "      <td>200000</td>\n",
       "      <td>208405.634540</td>\n",
       "      <td>0.042028</td>\n",
       "      <td>9.0</td>\n",
       "    </tr>\n",
       "    <tr>\n",
       "      <th>40</th>\n",
       "      <td>Nick Capullo</td>\n",
       "      <td>200000</td>\n",
       "      <td>206805.830638</td>\n",
       "      <td>0.034029</td>\n",
       "      <td>10.0</td>\n",
       "    </tr>\n",
       "  </tbody>\n",
       "</table>\n",
       "</div>"
      ],
      "text/plain": [
       "               Name  Cost Basis  Current_Value  Perc_Return  Rank\n",
       "12     Colton Young      200000  227517.278304     0.137586   1.0\n",
       "23  JOELEAN MCBRIDE      200000  220323.620583     0.101618   2.0\n",
       "47    Robert Kovacs      200000  218764.317391     0.093822   3.0\n",
       "45   Randy Benedict      200000  212029.947785     0.060150   4.0\n",
       "54     Trudy Seeber      200000  210778.845822     0.053894   5.0\n",
       "42     Pete Lindner      200000  210389.476981     0.051947   6.0\n",
       "27   Joseph Lindner      200000  210154.001817     0.050770   7.0\n",
       "19     Elise Shaver      200000  209420.857026     0.047104   8.0\n",
       "37  Marie Barkamian      200000  208405.634540     0.042028   9.0\n",
       "40     Nick Capullo      200000  206805.830638     0.034029  10.0"
      ]
     },
     "execution_count": 46,
     "metadata": {},
     "output_type": "execute_result"
    }
   ],
   "source": [
    "ranking['Perc_Return'] = ranking['Current_Value']/ranking['Cost Basis'] -1\n",
    "ranking['Rank'] = ranking['Perc_Return'].rank(ascending=False)\n",
    "ranking.head(10)"
   ]
  },
  {
   "cell_type": "code",
   "execution_count": 47,
   "metadata": {
    "collapsed": true
   },
   "outputs": [],
   "source": [
    "ranking.to_csv(\"individual rankings.csv\")"
   ]
  },
  {
   "cell_type": "markdown",
   "metadata": {},
   "source": [
    "### Best Individual Stock Returns"
   ]
  },
  {
   "cell_type": "code",
   "execution_count": 48,
   "metadata": {
    "collapsed": true
   },
   "outputs": [],
   "source": [
    "best_stocks = detail.drop_duplicates(['Symbol']).reset_index().sort_values(['Perc_Return'], ascending=False)"
   ]
  },
  {
   "cell_type": "code",
   "execution_count": 49,
   "metadata": {},
   "outputs": [
    {
     "data": {
      "text/html": [
       "<div>\n",
       "<style scoped>\n",
       "    .dataframe tbody tr th:only-of-type {\n",
       "        vertical-align: middle;\n",
       "    }\n",
       "\n",
       "    .dataframe tbody tr th {\n",
       "        vertical-align: top;\n",
       "    }\n",
       "\n",
       "    .dataframe thead th {\n",
       "        text-align: right;\n",
       "    }\n",
       "</style>\n",
       "<table border=\"1\" class=\"dataframe\">\n",
       "  <thead>\n",
       "    <tr style=\"text-align: right;\">\n",
       "      <th></th>\n",
       "      <th>Symbol</th>\n",
       "      <th>Perc_Return</th>\n",
       "    </tr>\n",
       "  </thead>\n",
       "  <tbody>\n",
       "    <tr>\n",
       "      <th>79</th>\n",
       "      <td>PIR</td>\n",
       "      <td>0.579545</td>\n",
       "    </tr>\n",
       "    <tr>\n",
       "      <th>237</th>\n",
       "      <td>RVNC</td>\n",
       "      <td>0.294388</td>\n",
       "    </tr>\n",
       "    <tr>\n",
       "      <th>171</th>\n",
       "      <td>HOME</td>\n",
       "      <td>0.269337</td>\n",
       "    </tr>\n",
       "    <tr>\n",
       "      <th>97</th>\n",
       "      <td>PLUG</td>\n",
       "      <td>0.243363</td>\n",
       "    </tr>\n",
       "    <tr>\n",
       "      <th>165</th>\n",
       "      <td>HOV</td>\n",
       "      <td>0.235619</td>\n",
       "    </tr>\n",
       "    <tr>\n",
       "      <th>207</th>\n",
       "      <td>ACER</td>\n",
       "      <td>0.234875</td>\n",
       "    </tr>\n",
       "    <tr>\n",
       "      <th>125</th>\n",
       "      <td>MARK</td>\n",
       "      <td>0.224490</td>\n",
       "    </tr>\n",
       "    <tr>\n",
       "      <th>203</th>\n",
       "      <td>FNMAL</td>\n",
       "      <td>0.215467</td>\n",
       "    </tr>\n",
       "    <tr>\n",
       "      <th>224</th>\n",
       "      <td>DNR</td>\n",
       "      <td>0.168142</td>\n",
       "    </tr>\n",
       "    <tr>\n",
       "      <th>120</th>\n",
       "      <td>RUN</td>\n",
       "      <td>0.161677</td>\n",
       "    </tr>\n",
       "  </tbody>\n",
       "</table>\n",
       "</div>"
      ],
      "text/plain": [
       "    Symbol  Perc_Return\n",
       "79     PIR     0.579545\n",
       "237   RVNC     0.294388\n",
       "171   HOME     0.269337\n",
       "97    PLUG     0.243363\n",
       "165    HOV     0.235619\n",
       "207   ACER     0.234875\n",
       "125   MARK     0.224490\n",
       "203  FNMAL     0.215467\n",
       "224    DNR     0.168142\n",
       "120    RUN     0.161677"
      ]
     },
     "execution_count": 49,
     "metadata": {},
     "output_type": "execute_result"
    }
   ],
   "source": [
    "best_stocks = best_stocks.loc[:, ['Symbol', 'Perc_Return']]\n",
    "best_stocks.head(10)"
   ]
  },
  {
   "cell_type": "code",
   "execution_count": 50,
   "metadata": {
    "collapsed": true
   },
   "outputs": [],
   "source": [
    "best_stocks.to_csv(\"stock ranking.csv\")"
   ]
  },
  {
   "cell_type": "markdown",
   "metadata": {},
   "source": [
    "# Trend"
   ]
  },
  {
   "cell_type": "code",
   "execution_count": null,
   "metadata": {
    "collapsed": true
   },
   "outputs": [],
   "source": [
    "#Pull Only necessary columns\n",
    "combined = combined.loc[:, ['Name', 'Symbol', '# of Shares']]"
   ]
  },
  {
   "cell_type": "code",
   "execution_count": null,
   "metadata": {
    "collapsed": true
   },
   "outputs": [],
   "source": [
    "Price_History = stockData(stocks['Ticker'], '2019-08-01', '2019-09-06')"
   ]
  },
  {
   "cell_type": "code",
   "execution_count": null,
   "metadata": {
    "collapsed": true
   },
   "outputs": [],
   "source": [
    "historical = pd.merge(combined, Price_History, how = 'outer', on = \"Symbol\", validate=\"many_to_many\")\n"
   ]
  },
  {
   "cell_type": "code",
   "execution_count": null,
   "metadata": {
    "collapsed": true
   },
   "outputs": [],
   "source": [
    "historical['Value'] = historical['# of Shares'] * historical['Close']\n",
    "historical.head()"
   ]
  },
  {
   "cell_type": "code",
   "execution_count": null,
   "metadata": {
    "collapsed": true
   },
   "outputs": [],
   "source": [
    "trend_data = historical.groupby(['Name', 'Day'])['Value'].sum().reset_index().sort_values(['Name', 'Day'])"
   ]
  },
  {
   "cell_type": "code",
   "execution_count": null,
   "metadata": {
    "collapsed": true
   },
   "outputs": [],
   "source": [
    "trend_data.head()"
   ]
  },
  {
   "cell_type": "code",
   "execution_count": 1,
   "metadata": {
    "collapsed": true
   },
   "outputs": [],
   "source": [
    "import chart_studio.plotly as py\n",
    "import plotly.graph_objs as go\n",
    "from plotly.offline import iplot, init_notebook_mode"
   ]
  }
 ],
 "metadata": {
  "kernelspec": {
   "display_name": "Python 3",
   "language": "python",
   "name": "python3"
  }
 },
 "nbformat": 4,
 "nbformat_minor": 2
}
