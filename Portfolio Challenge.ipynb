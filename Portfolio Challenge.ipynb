{
 "cells": [
  {
   "cell_type": "code",
   "execution_count": 1,
   "metadata": {
    "collapsed": true,
    "scrolled": true
   },
   "outputs": [],
   "source": [
    "import os\n",
    "import pandas as pd\n",
    "import numpy as np\n",
    "import pandas_datareader\n",
    "from pandas_datareader import data as pdr\n",
    "from datetime import datetime, timedelta\n",
    "import yfinance as yf\n",
    "\n",
    "def stockData(sList, stDate, endDate):\n",
    "    \"\"\"Take list of stocks and pull data for that stock and create technical indicator variables\n",
    "    sList requires list of stocks, dates should be entered in format 'YYYY-MM-DD' \"\"\"\n",
    "   \n",
    "    data = []\n",
    "    for element in sList:\n",
    "        try:\n",
    "            temp = pdr.get_data_yahoo(element, start = stDate, end = endDate)\n",
    "            #add an indentifier\n",
    "            temp['Symbol'] = element\n",
    "            temp['Close'] = temp['Close']\n",
    "        except: \n",
    "            #If stock symbol cannot be found make it $1\n",
    "            print (element)\n",
    "            temp['Symbol'] = element\n",
    "            temp['Close'] = 1\n",
    "        else:\n",
    "        #add data to list \n",
    "            data.append(temp)\n",
    "        #convert to dataframe    \n",
    "        df = pd.concat(data)\n",
    "        #drop rows for which we will not have all data points calculated\n",
    "        df = df.dropna()\n",
    "        #dates above what user entered\n",
    "        df = df.loc[stDate : endDate]\n",
    "        #order and limit columns to those needed\n",
    "        df = df.loc[:, ['Symbol', 'Close']]\n",
    "        df['Day'] = pd.to_datetime(df.index)\n",
    "\n",
    "    \n",
    "    return(df)\n"
   ]
  },
  {
   "cell_type": "code",
   "execution_count": 2,
   "metadata": {
    "collapsed": true
   },
   "outputs": [],
   "source": [
    "#set working directory \n",
    "os.chdir(\"/Users/bkrei/Desktop/Bk's Stuff Desktop/School/Github NEW PATH/Portfolio-Challenge\")"
   ]
  },
  {
   "cell_type": "code",
   "execution_count": 3,
   "metadata": {
    "collapsed": true
   },
   "outputs": [],
   "source": [
    "#Read in individual portfolios\n",
    "portfolios = pd.read_csv(\"https://raw.githubusercontent.com/bkreis84/Portfolio-Challenge/master/Portfolios.csv\")"
   ]
  },
  {
   "cell_type": "code",
   "execution_count": 4,
   "metadata": {},
   "outputs": [
    {
     "data": {
      "text/plain": [
       "0       AAPL\n",
       "1      AGTHX\n",
       "2       AMZN\n",
       "3        CHE\n",
       "4       DOCU\n",
       "5      GSGRX\n",
       "6       ICLN\n",
       "7      OEGAX\n",
       "8       PBFS\n",
       "9        QQQ\n",
       "10       SPY\n",
       "13     BRK-B\n",
       "14     CMCSA\n",
       "15       CVS\n",
       "16       DIS\n",
       "17        GE\n",
       "18       JNJ\n",
       "19       JPM\n",
       "20      NFLX\n",
       "22      SBUX\n",
       "23       XOM\n",
       "28        BA\n",
       "29         C\n",
       "30      CHWY\n",
       "31      CVRS\n",
       "32      DELL\n",
       "33       IAG\n",
       "37       BAM\n",
       "38       BEP\n",
       "39       CGC\n",
       "       ...  \n",
       "371     ZUMZ\n",
       "376     EGRX\n",
       "381     ACER\n",
       "382       KR\n",
       "383     UUUU\n",
       "384     ZIXI\n",
       "390      MTZ\n",
       "397      NOC\n",
       "399      TPL\n",
       "401     ANET\n",
       "402     INGN\n",
       "403      MED\n",
       "404     SIVB\n",
       "405     ALXN\n",
       "407      RTN\n",
       "409     ACST\n",
       "411      DNR\n",
       "413       NM\n",
       "423       JP\n",
       "426        X\n",
       "441     CELG\n",
       "442     COUP\n",
       "443     CTSH\n",
       "449     FTNT\n",
       "450      HON\n",
       "473      SAM\n",
       "477      CXO\n",
       "478     GWPH\n",
       "480     MOMO\n",
       "482     RVNC\n",
       "Name: Symbol, Length: 235, dtype: object"
      ]
     },
     "execution_count": 4,
     "metadata": {},
     "output_type": "execute_result"
    }
   ],
   "source": [
    "#List of all ticker symbols\n",
    "symbols = portfolios['Symbol'].drop_duplicates()\n",
    "symbols.head(300)"
   ]
  },
  {
   "cell_type": "code",
   "execution_count": 5,
   "metadata": {
    "collapsed": true
   },
   "outputs": [],
   "source": [
    "symbols.to_csv(\"symbols.csv\", header = False)"
   ]
  },
  {
   "cell_type": "code",
   "execution_count": 6,
   "metadata": {},
   "outputs": [
    {
     "name": "stdout",
     "output_type": "stream",
     "text": [
      "CASHPIO\n"
     ]
    },
    {
     "data": {
      "text/plain": [
       "(234, 3)"
      ]
     },
     "execution_count": 6,
     "metadata": {},
     "output_type": "execute_result"
    }
   ],
   "source": [
    "#Pass the ticker list to the function, print invalid stock symbols and create dataframe with intial prices\n",
    "beg_prices = stockData(list(symbols), '2019-09-06', '2019-09-06')\n",
    "beg_prices.shape"
   ]
  },
  {
   "cell_type": "code",
   "execution_count": 8,
   "metadata": {
    "collapsed": true
   },
   "outputs": [],
   "source": [
    "#Pull SNAP which for some reason is the only stock with an issue.\n",
    "er = stockData(['SNAP'], '2019-09-06', '2019-09-06')"
   ]
  },
  {
   "cell_type": "code",
   "execution_count": 9,
   "metadata": {
    "collapsed": true
   },
   "outputs": [],
   "source": [
    "#Combine the main and SNAP dataframes\n",
    "frames = [beg_prices, er]\n",
    "beg_prices = pd.concat(frames)"
   ]
  },
  {
   "cell_type": "code",
   "execution_count": 11,
   "metadata": {
    "collapsed": true
   },
   "outputs": [],
   "source": [
    "beg_prices.to_csv(\"beg_prices.csv\")"
   ]
  },
  {
   "cell_type": "code",
   "execution_count": 12,
   "metadata": {
    "collapsed": true
   },
   "outputs": [],
   "source": [
    "beg_prices = pd.read_csv(\"https://raw.githubusercontent.com/bkreis84/Portfolio-Challenge/master/beg_prices.csv\")\n",
    "combined = pd.merge(portfolios, beg_prices, how = 'left', on = \"Symbol\", validate=\"many_to_one\")"
   ]
  },
  {
   "cell_type": "code",
   "execution_count": 13,
   "metadata": {},
   "outputs": [
    {
     "data": {
      "text/html": [
       "<div>\n",
       "<style scoped>\n",
       "    .dataframe tbody tr th:only-of-type {\n",
       "        vertical-align: middle;\n",
       "    }\n",
       "\n",
       "    .dataframe tbody tr th {\n",
       "        vertical-align: top;\n",
       "    }\n",
       "\n",
       "    .dataframe thead th {\n",
       "        text-align: right;\n",
       "    }\n",
       "</style>\n",
       "<table border=\"1\" class=\"dataframe\">\n",
       "  <thead>\n",
       "    <tr style=\"text-align: right;\">\n",
       "      <th></th>\n",
       "      <th>Name</th>\n",
       "      <th>Symbol</th>\n",
       "      <th>% of Portfolio</th>\n",
       "      <th>Cost Basis</th>\n",
       "      <th>Date</th>\n",
       "      <th>Close</th>\n",
       "      <th>Day</th>\n",
       "    </tr>\n",
       "  </thead>\n",
       "  <tbody>\n",
       "    <tr>\n",
       "      <th>0</th>\n",
       "      <td>Adrienne Villano</td>\n",
       "      <td>AAPL</td>\n",
       "      <td>0.07</td>\n",
       "      <td>14000</td>\n",
       "      <td>2019-09-06</td>\n",
       "      <td>213.259995</td>\n",
       "      <td>2019-09-06</td>\n",
       "    </tr>\n",
       "    <tr>\n",
       "      <th>1</th>\n",
       "      <td>Adrienne Villano</td>\n",
       "      <td>AGTHX</td>\n",
       "      <td>0.11</td>\n",
       "      <td>22000</td>\n",
       "      <td>2019-09-06</td>\n",
       "      <td>50.000000</td>\n",
       "      <td>2019-09-06</td>\n",
       "    </tr>\n",
       "    <tr>\n",
       "      <th>2</th>\n",
       "      <td>Adrienne Villano</td>\n",
       "      <td>AMZN</td>\n",
       "      <td>0.07</td>\n",
       "      <td>14000</td>\n",
       "      <td>2019-09-06</td>\n",
       "      <td>1833.510010</td>\n",
       "      <td>2019-09-06</td>\n",
       "    </tr>\n",
       "    <tr>\n",
       "      <th>3</th>\n",
       "      <td>Adrienne Villano</td>\n",
       "      <td>CHE</td>\n",
       "      <td>0.18</td>\n",
       "      <td>36000</td>\n",
       "      <td>2019-09-06</td>\n",
       "      <td>439.820007</td>\n",
       "      <td>2019-09-06</td>\n",
       "    </tr>\n",
       "    <tr>\n",
       "      <th>4</th>\n",
       "      <td>Adrienne Villano</td>\n",
       "      <td>DOCU</td>\n",
       "      <td>0.05</td>\n",
       "      <td>10000</td>\n",
       "      <td>2019-09-06</td>\n",
       "      <td>56.270000</td>\n",
       "      <td>2019-09-06</td>\n",
       "    </tr>\n",
       "  </tbody>\n",
       "</table>\n",
       "</div>"
      ],
      "text/plain": [
       "               Name Symbol % of Portfolio  Cost Basis        Date  \\\n",
       "0  Adrienne Villano   AAPL           0.07       14000  2019-09-06   \n",
       "1  Adrienne Villano  AGTHX           0.11       22000  2019-09-06   \n",
       "2  Adrienne Villano   AMZN           0.07       14000  2019-09-06   \n",
       "3  Adrienne Villano    CHE           0.18       36000  2019-09-06   \n",
       "4  Adrienne Villano   DOCU           0.05       10000  2019-09-06   \n",
       "\n",
       "         Close         Day  \n",
       "0   213.259995  2019-09-06  \n",
       "1    50.000000  2019-09-06  \n",
       "2  1833.510010  2019-09-06  \n",
       "3   439.820007  2019-09-06  \n",
       "4    56.270000  2019-09-06  "
      ]
     },
     "execution_count": 13,
     "metadata": {},
     "output_type": "execute_result"
    }
   ],
   "source": [
    "combined.head(5)"
   ]
  },
  {
   "cell_type": "code",
   "execution_count": 14,
   "metadata": {
    "collapsed": true
   },
   "outputs": [],
   "source": [
    "#Calc # of shares purchased\n",
    "combined[\"# of Shares\"] = combined[\"Cost Basis\"]/ combined[\"Close\"]\n",
    "#Convert names to proper case\n",
    "#combined['Name'] = list(map(lambda x: x.title(), combined['Name']))\n",
    "#combined.head()"
   ]
  },
  {
   "cell_type": "code",
   "execution_count": 15,
   "metadata": {
    "collapsed": true
   },
   "outputs": [],
   "source": [
    "combined.to_csv(\"initial portfolios.csv\")"
   ]
  },
  {
   "cell_type": "markdown",
   "metadata": {},
   "source": [
    "# Simple Comparison (Initial vs Current Value) START HERE TO UPDATE"
   ]
  },
  {
   "cell_type": "code",
   "execution_count": 30,
   "metadata": {},
   "outputs": [
    {
     "name": "stdout",
     "output_type": "stream",
     "text": [
      "TSS\n",
      "CASHPIO\n",
      "SKIS\n"
     ]
    }
   ],
   "source": [
    "#Select date to compare to initial prices\n",
    "cur_prices = stockData(list(symbols), '2019-09-26', '2019-09-26')"
   ]
  },
  {
   "cell_type": "code",
   "execution_count": 31,
   "metadata": {},
   "outputs": [],
   "source": [
    "#Pull SNAP which for some reason is the only stock with an issue.\n",
    "er2 =  stockData(['SNAP'], '2019-09-26', '2019-09-26')"
   ]
  },
  {
   "cell_type": "code",
   "execution_count": 32,
   "metadata": {
    "collapsed": true
   },
   "outputs": [],
   "source": [
    "#Combine the main and SNAP dataframes\n",
    "frames2 = [cur_prices, er2]\n",
    "cur_prices = pd.concat(frames2)"
   ]
  },
  {
   "cell_type": "code",
   "execution_count": 33,
   "metadata": {
    "collapsed": true
   },
   "outputs": [],
   "source": [
    "cur_prices.sort_values(\"Symbol\", inplace = True)\n",
    "cur_prices.drop_duplicates(subset = \"Symbol\", inplace = True)"
   ]
  },
  {
   "cell_type": "code",
   "execution_count": 34,
   "metadata": {
    "collapsed": true
   },
   "outputs": [],
   "source": [
    "cur_prices.to_csv(\"cur_prices.csv\")"
   ]
  },
  {
   "cell_type": "code",
   "execution_count": 35,
   "metadata": {},
   "outputs": [
    {
     "data": {
      "text/html": [
       "<div>\n",
       "<style scoped>\n",
       "    .dataframe tbody tr th:only-of-type {\n",
       "        vertical-align: middle;\n",
       "    }\n",
       "\n",
       "    .dataframe tbody tr th {\n",
       "        vertical-align: top;\n",
       "    }\n",
       "\n",
       "    .dataframe thead th {\n",
       "        text-align: right;\n",
       "    }\n",
       "</style>\n",
       "<table border=\"1\" class=\"dataframe\">\n",
       "  <thead>\n",
       "    <tr style=\"text-align: right;\">\n",
       "      <th></th>\n",
       "      <th>Date</th>\n",
       "      <th>Symbol</th>\n",
       "      <th>Close</th>\n",
       "      <th>Day</th>\n",
       "    </tr>\n",
       "  </thead>\n",
       "  <tbody>\n",
       "    <tr>\n",
       "      <th>0</th>\n",
       "      <td>2019-09-26</td>\n",
       "      <td>AAL</td>\n",
       "      <td>27.190001</td>\n",
       "      <td>2019-09-26</td>\n",
       "    </tr>\n",
       "    <tr>\n",
       "      <th>1</th>\n",
       "      <td>2019-09-26</td>\n",
       "      <td>ACB</td>\n",
       "      <td>4.740000</td>\n",
       "      <td>2019-09-26</td>\n",
       "    </tr>\n",
       "    <tr>\n",
       "      <th>2</th>\n",
       "      <td>2019-09-26</td>\n",
       "      <td>ACER</td>\n",
       "      <td>3.190000</td>\n",
       "      <td>2019-09-26</td>\n",
       "    </tr>\n",
       "    <tr>\n",
       "      <th>3</th>\n",
       "      <td>2019-09-26</td>\n",
       "      <td>ACST</td>\n",
       "      <td>1.890000</td>\n",
       "      <td>2019-09-26</td>\n",
       "    </tr>\n",
       "    <tr>\n",
       "      <th>4</th>\n",
       "      <td>2019-09-26</td>\n",
       "      <td>ADBE</td>\n",
       "      <td>283.809998</td>\n",
       "      <td>2019-09-26</td>\n",
       "    </tr>\n",
       "  </tbody>\n",
       "</table>\n",
       "</div>"
      ],
      "text/plain": [
       "         Date Symbol       Close         Day\n",
       "0  2019-09-26    AAL   27.190001  2019-09-26\n",
       "1  2019-09-26    ACB    4.740000  2019-09-26\n",
       "2  2019-09-26   ACER    3.190000  2019-09-26\n",
       "3  2019-09-26   ACST    1.890000  2019-09-26\n",
       "4  2019-09-26   ADBE  283.809998  2019-09-26"
      ]
     },
     "execution_count": 35,
     "metadata": {},
     "output_type": "execute_result"
    }
   ],
   "source": [
    "cur_prices= pd.read_csv(\"https://raw.githubusercontent.com/bkreis84/Portfolio-Challenge/master/cur_prices.csv\")\n",
    "cur_prices.head()\n"
   ]
  },
  {
   "cell_type": "code",
   "execution_count": 36,
   "metadata": {
    "collapsed": true
   },
   "outputs": [],
   "source": [
    "detail = pd.merge(combined, cur_prices, how = 'left', on = \"Symbol\", validate=\"many_to_one\")"
   ]
  },
  {
   "cell_type": "code",
   "execution_count": 37,
   "metadata": {},
   "outputs": [
    {
     "data": {
      "text/html": [
       "<div>\n",
       "<style scoped>\n",
       "    .dataframe tbody tr th:only-of-type {\n",
       "        vertical-align: middle;\n",
       "    }\n",
       "\n",
       "    .dataframe tbody tr th {\n",
       "        vertical-align: top;\n",
       "    }\n",
       "\n",
       "    .dataframe thead th {\n",
       "        text-align: right;\n",
       "    }\n",
       "</style>\n",
       "<table border=\"1\" class=\"dataframe\">\n",
       "  <thead>\n",
       "    <tr style=\"text-align: right;\">\n",
       "      <th></th>\n",
       "      <th>Name</th>\n",
       "      <th>Symbol</th>\n",
       "      <th>% of Portfolio</th>\n",
       "      <th>Cost Basis</th>\n",
       "      <th>Date_x</th>\n",
       "      <th>Close_x</th>\n",
       "      <th>Day_x</th>\n",
       "      <th># of Shares</th>\n",
       "      <th>Date_y</th>\n",
       "      <th>Close_y</th>\n",
       "      <th>Day_y</th>\n",
       "    </tr>\n",
       "  </thead>\n",
       "  <tbody>\n",
       "    <tr>\n",
       "      <th>0</th>\n",
       "      <td>Adrienne Villano</td>\n",
       "      <td>AAPL</td>\n",
       "      <td>0.07</td>\n",
       "      <td>14000</td>\n",
       "      <td>2019-09-06</td>\n",
       "      <td>213.259995</td>\n",
       "      <td>2019-09-06</td>\n",
       "      <td>65.647568</td>\n",
       "      <td>NaN</td>\n",
       "      <td>NaN</td>\n",
       "      <td>NaN</td>\n",
       "    </tr>\n",
       "    <tr>\n",
       "      <th>1</th>\n",
       "      <td>Adrienne Villano</td>\n",
       "      <td>AGTHX</td>\n",
       "      <td>0.11</td>\n",
       "      <td>22000</td>\n",
       "      <td>2019-09-06</td>\n",
       "      <td>50.000000</td>\n",
       "      <td>2019-09-06</td>\n",
       "      <td>440.000000</td>\n",
       "      <td>2019-09-26</td>\n",
       "      <td>1.000000</td>\n",
       "      <td>2019-09-26</td>\n",
       "    </tr>\n",
       "    <tr>\n",
       "      <th>2</th>\n",
       "      <td>Adrienne Villano</td>\n",
       "      <td>AMZN</td>\n",
       "      <td>0.07</td>\n",
       "      <td>14000</td>\n",
       "      <td>2019-09-06</td>\n",
       "      <td>1833.510010</td>\n",
       "      <td>2019-09-06</td>\n",
       "      <td>7.635628</td>\n",
       "      <td>2019-09-26</td>\n",
       "      <td>1739.839966</td>\n",
       "      <td>2019-09-26</td>\n",
       "    </tr>\n",
       "    <tr>\n",
       "      <th>3</th>\n",
       "      <td>Adrienne Villano</td>\n",
       "      <td>CHE</td>\n",
       "      <td>0.18</td>\n",
       "      <td>36000</td>\n",
       "      <td>2019-09-06</td>\n",
       "      <td>439.820007</td>\n",
       "      <td>2019-09-06</td>\n",
       "      <td>81.851665</td>\n",
       "      <td>2019-09-26</td>\n",
       "      <td>417.649994</td>\n",
       "      <td>2019-09-26</td>\n",
       "    </tr>\n",
       "    <tr>\n",
       "      <th>4</th>\n",
       "      <td>Adrienne Villano</td>\n",
       "      <td>DOCU</td>\n",
       "      <td>0.05</td>\n",
       "      <td>10000</td>\n",
       "      <td>2019-09-06</td>\n",
       "      <td>56.270000</td>\n",
       "      <td>2019-09-06</td>\n",
       "      <td>177.714589</td>\n",
       "      <td>NaN</td>\n",
       "      <td>NaN</td>\n",
       "      <td>NaN</td>\n",
       "    </tr>\n",
       "  </tbody>\n",
       "</table>\n",
       "</div>"
      ],
      "text/plain": [
       "               Name Symbol % of Portfolio  Cost Basis      Date_x  \\\n",
       "0  Adrienne Villano   AAPL           0.07       14000  2019-09-06   \n",
       "1  Adrienne Villano  AGTHX           0.11       22000  2019-09-06   \n",
       "2  Adrienne Villano   AMZN           0.07       14000  2019-09-06   \n",
       "3  Adrienne Villano    CHE           0.18       36000  2019-09-06   \n",
       "4  Adrienne Villano   DOCU           0.05       10000  2019-09-06   \n",
       "\n",
       "       Close_x       Day_x  # of Shares      Date_y      Close_y       Day_y  \n",
       "0   213.259995  2019-09-06    65.647568         NaN          NaN         NaN  \n",
       "1    50.000000  2019-09-06   440.000000  2019-09-26     1.000000  2019-09-26  \n",
       "2  1833.510010  2019-09-06     7.635628  2019-09-26  1739.839966  2019-09-26  \n",
       "3   439.820007  2019-09-06    81.851665  2019-09-26   417.649994  2019-09-26  \n",
       "4    56.270000  2019-09-06   177.714589         NaN          NaN         NaN  "
      ]
     },
     "execution_count": 37,
     "metadata": {},
     "output_type": "execute_result"
    }
   ],
   "source": [
    "detail.head()"
   ]
  },
  {
   "cell_type": "code",
   "execution_count": 38,
   "metadata": {},
   "outputs": [
    {
     "data": {
      "text/html": [
       "<div>\n",
       "<style scoped>\n",
       "    .dataframe tbody tr th:only-of-type {\n",
       "        vertical-align: middle;\n",
       "    }\n",
       "\n",
       "    .dataframe tbody tr th {\n",
       "        vertical-align: top;\n",
       "    }\n",
       "\n",
       "    .dataframe thead th {\n",
       "        text-align: right;\n",
       "    }\n",
       "</style>\n",
       "<table border=\"1\" class=\"dataframe\">\n",
       "  <thead>\n",
       "    <tr style=\"text-align: right;\">\n",
       "      <th></th>\n",
       "      <th>Name</th>\n",
       "      <th>Symbol</th>\n",
       "      <th>% of Portfolio</th>\n",
       "      <th>Cost Basis</th>\n",
       "      <th>Date_x</th>\n",
       "      <th>Close_x</th>\n",
       "      <th>Day_x</th>\n",
       "      <th># of Shares</th>\n",
       "      <th>Date_y</th>\n",
       "      <th>Close_y</th>\n",
       "      <th>Day_y</th>\n",
       "      <th>Current_Value</th>\n",
       "      <th>Perc_Return</th>\n",
       "    </tr>\n",
       "  </thead>\n",
       "  <tbody>\n",
       "    <tr>\n",
       "      <th>0</th>\n",
       "      <td>Adrienne Villano</td>\n",
       "      <td>AAPL</td>\n",
       "      <td>0.07</td>\n",
       "      <td>14000</td>\n",
       "      <td>2019-09-06</td>\n",
       "      <td>213.259995</td>\n",
       "      <td>2019-09-06</td>\n",
       "      <td>65.647568</td>\n",
       "      <td>NaN</td>\n",
       "      <td>NaN</td>\n",
       "      <td>NaN</td>\n",
       "      <td>NaN</td>\n",
       "      <td>NaN</td>\n",
       "    </tr>\n",
       "    <tr>\n",
       "      <th>1</th>\n",
       "      <td>Adrienne Villano</td>\n",
       "      <td>AGTHX</td>\n",
       "      <td>0.11</td>\n",
       "      <td>22000</td>\n",
       "      <td>2019-09-06</td>\n",
       "      <td>50.000000</td>\n",
       "      <td>2019-09-06</td>\n",
       "      <td>440.000000</td>\n",
       "      <td>2019-09-26</td>\n",
       "      <td>1.000000</td>\n",
       "      <td>2019-09-26</td>\n",
       "      <td>440.000000</td>\n",
       "      <td>-0.980000</td>\n",
       "    </tr>\n",
       "    <tr>\n",
       "      <th>2</th>\n",
       "      <td>Adrienne Villano</td>\n",
       "      <td>AMZN</td>\n",
       "      <td>0.07</td>\n",
       "      <td>14000</td>\n",
       "      <td>2019-09-06</td>\n",
       "      <td>1833.510010</td>\n",
       "      <td>2019-09-06</td>\n",
       "      <td>7.635628</td>\n",
       "      <td>2019-09-26</td>\n",
       "      <td>1739.839966</td>\n",
       "      <td>2019-09-26</td>\n",
       "      <td>13284.770409</td>\n",
       "      <td>-0.051088</td>\n",
       "    </tr>\n",
       "    <tr>\n",
       "      <th>3</th>\n",
       "      <td>Adrienne Villano</td>\n",
       "      <td>CHE</td>\n",
       "      <td>0.18</td>\n",
       "      <td>36000</td>\n",
       "      <td>2019-09-06</td>\n",
       "      <td>439.820007</td>\n",
       "      <td>2019-09-06</td>\n",
       "      <td>81.851665</td>\n",
       "      <td>2019-09-26</td>\n",
       "      <td>417.649994</td>\n",
       "      <td>2019-09-26</td>\n",
       "      <td>34185.347483</td>\n",
       "      <td>-0.050407</td>\n",
       "    </tr>\n",
       "    <tr>\n",
       "      <th>4</th>\n",
       "      <td>Adrienne Villano</td>\n",
       "      <td>DOCU</td>\n",
       "      <td>0.05</td>\n",
       "      <td>10000</td>\n",
       "      <td>2019-09-06</td>\n",
       "      <td>56.270000</td>\n",
       "      <td>2019-09-06</td>\n",
       "      <td>177.714589</td>\n",
       "      <td>NaN</td>\n",
       "      <td>NaN</td>\n",
       "      <td>NaN</td>\n",
       "      <td>NaN</td>\n",
       "      <td>NaN</td>\n",
       "    </tr>\n",
       "  </tbody>\n",
       "</table>\n",
       "</div>"
      ],
      "text/plain": [
       "               Name Symbol % of Portfolio  Cost Basis      Date_x  \\\n",
       "0  Adrienne Villano   AAPL           0.07       14000  2019-09-06   \n",
       "1  Adrienne Villano  AGTHX           0.11       22000  2019-09-06   \n",
       "2  Adrienne Villano   AMZN           0.07       14000  2019-09-06   \n",
       "3  Adrienne Villano    CHE           0.18       36000  2019-09-06   \n",
       "4  Adrienne Villano   DOCU           0.05       10000  2019-09-06   \n",
       "\n",
       "       Close_x       Day_x  # of Shares      Date_y      Close_y       Day_y  \\\n",
       "0   213.259995  2019-09-06    65.647568         NaN          NaN         NaN   \n",
       "1    50.000000  2019-09-06   440.000000  2019-09-26     1.000000  2019-09-26   \n",
       "2  1833.510010  2019-09-06     7.635628  2019-09-26  1739.839966  2019-09-26   \n",
       "3   439.820007  2019-09-06    81.851665  2019-09-26   417.649994  2019-09-26   \n",
       "4    56.270000  2019-09-06   177.714589         NaN          NaN         NaN   \n",
       "\n",
       "   Current_Value  Perc_Return  \n",
       "0            NaN          NaN  \n",
       "1     440.000000    -0.980000  \n",
       "2   13284.770409    -0.051088  \n",
       "3   34185.347483    -0.050407  \n",
       "4            NaN          NaN  "
      ]
     },
     "execution_count": 38,
     "metadata": {},
     "output_type": "execute_result"
    }
   ],
   "source": [
    "detail['Current_Value'] = detail['Close_y'] * detail['# of Shares']\n",
    "detail['Perc_Return'] = detail['Close_y']/detail['Close_x']  -1\n",
    "detail.head(5)"
   ]
  },
  {
   "cell_type": "code",
   "execution_count": 39,
   "metadata": {
    "collapsed": true
   },
   "outputs": [],
   "source": [
    "detail.to_csv(\"detail.csv\")"
   ]
  },
  {
   "cell_type": "markdown",
   "metadata": {},
   "source": [
    "### Individual Performance"
   ]
  },
  {
   "cell_type": "code",
   "execution_count": 40,
   "metadata": {
    "collapsed": true
   },
   "outputs": [],
   "source": [
    "ranking = detail.groupby(\"Name\")['Cost Basis', 'Current_Value'].sum().reset_index().sort_values(\"Current_Value\", ascending=False)"
   ]
  },
  {
   "cell_type": "code",
   "execution_count": 41,
   "metadata": {
    "scrolled": true
   },
   "outputs": [
    {
     "data": {
      "text/html": [
       "<div>\n",
       "<style scoped>\n",
       "    .dataframe tbody tr th:only-of-type {\n",
       "        vertical-align: middle;\n",
       "    }\n",
       "\n",
       "    .dataframe tbody tr th {\n",
       "        vertical-align: top;\n",
       "    }\n",
       "\n",
       "    .dataframe thead th {\n",
       "        text-align: right;\n",
       "    }\n",
       "</style>\n",
       "<table border=\"1\" class=\"dataframe\">\n",
       "  <thead>\n",
       "    <tr style=\"text-align: right;\">\n",
       "      <th></th>\n",
       "      <th>Name</th>\n",
       "      <th>Cost Basis</th>\n",
       "      <th>Current_Value</th>\n",
       "      <th>Perc_Return</th>\n",
       "      <th>Rank</th>\n",
       "    </tr>\n",
       "  </thead>\n",
       "  <tbody>\n",
       "    <tr>\n",
       "      <th>47</th>\n",
       "      <td>Robert Kovacs</td>\n",
       "      <td>200000</td>\n",
       "      <td>222425.641226</td>\n",
       "      <td>0.112128</td>\n",
       "      <td>1.0</td>\n",
       "    </tr>\n",
       "    <tr>\n",
       "      <th>29</th>\n",
       "      <td>Kelly Nicholson</td>\n",
       "      <td>200000</td>\n",
       "      <td>209844.456116</td>\n",
       "      <td>0.049222</td>\n",
       "      <td>2.0</td>\n",
       "    </tr>\n",
       "    <tr>\n",
       "      <th>40</th>\n",
       "      <td>Nick Capullo</td>\n",
       "      <td>200000</td>\n",
       "      <td>204190.360137</td>\n",
       "      <td>0.020952</td>\n",
       "      <td>3.0</td>\n",
       "    </tr>\n",
       "    <tr>\n",
       "      <th>19</th>\n",
       "      <td>Elise Shaver</td>\n",
       "      <td>200000</td>\n",
       "      <td>202405.078427</td>\n",
       "      <td>0.012025</td>\n",
       "      <td>4.0</td>\n",
       "    </tr>\n",
       "    <tr>\n",
       "      <th>42</th>\n",
       "      <td>Pete Lindner</td>\n",
       "      <td>200000</td>\n",
       "      <td>202218.070438</td>\n",
       "      <td>0.011090</td>\n",
       "      <td>5.0</td>\n",
       "    </tr>\n",
       "    <tr>\n",
       "      <th>30</th>\n",
       "      <td>Kimberly Matzen</td>\n",
       "      <td>200000</td>\n",
       "      <td>201896.293033</td>\n",
       "      <td>0.009481</td>\n",
       "      <td>6.0</td>\n",
       "    </tr>\n",
       "    <tr>\n",
       "      <th>54</th>\n",
       "      <td>Trudy Seeber</td>\n",
       "      <td>200000</td>\n",
       "      <td>201794.599095</td>\n",
       "      <td>0.008973</td>\n",
       "      <td>7.0</td>\n",
       "    </tr>\n",
       "    <tr>\n",
       "      <th>7</th>\n",
       "      <td>Barb Derian</td>\n",
       "      <td>200000</td>\n",
       "      <td>201144.430136</td>\n",
       "      <td>0.005722</td>\n",
       "      <td>8.0</td>\n",
       "    </tr>\n",
       "    <tr>\n",
       "      <th>9</th>\n",
       "      <td>Bradley Bonfante</td>\n",
       "      <td>200000</td>\n",
       "      <td>200901.003604</td>\n",
       "      <td>0.004505</td>\n",
       "      <td>9.0</td>\n",
       "    </tr>\n",
       "    <tr>\n",
       "      <th>13</th>\n",
       "      <td>Dan Cancelliere</td>\n",
       "      <td>200000</td>\n",
       "      <td>200476.418884</td>\n",
       "      <td>0.002382</td>\n",
       "      <td>10.0</td>\n",
       "    </tr>\n",
       "    <tr>\n",
       "      <th>27</th>\n",
       "      <td>Joseph Lindner</td>\n",
       "      <td>200000</td>\n",
       "      <td>200059.113948</td>\n",
       "      <td>0.000296</td>\n",
       "      <td>11.0</td>\n",
       "    </tr>\n",
       "    <tr>\n",
       "      <th>48</th>\n",
       "      <td>Ryan St. Peter</td>\n",
       "      <td>200000</td>\n",
       "      <td>199678.776498</td>\n",
       "      <td>-0.001606</td>\n",
       "      <td>12.0</td>\n",
       "    </tr>\n",
       "    <tr>\n",
       "      <th>5</th>\n",
       "      <td>Anil Mulchandani</td>\n",
       "      <td>200000</td>\n",
       "      <td>199398.647105</td>\n",
       "      <td>-0.003007</td>\n",
       "      <td>13.0</td>\n",
       "    </tr>\n",
       "    <tr>\n",
       "      <th>41</th>\n",
       "      <td>Nori Lansing</td>\n",
       "      <td>200000</td>\n",
       "      <td>198578.698827</td>\n",
       "      <td>-0.007107</td>\n",
       "      <td>14.0</td>\n",
       "    </tr>\n",
       "    <tr>\n",
       "      <th>31</th>\n",
       "      <td>Krista Nash</td>\n",
       "      <td>200000</td>\n",
       "      <td>197802.219545</td>\n",
       "      <td>-0.010989</td>\n",
       "      <td>15.0</td>\n",
       "    </tr>\n",
       "    <tr>\n",
       "      <th>39</th>\n",
       "      <td>Melissa Stamper</td>\n",
       "      <td>200000</td>\n",
       "      <td>197441.840940</td>\n",
       "      <td>-0.012791</td>\n",
       "      <td>16.0</td>\n",
       "    </tr>\n",
       "    <tr>\n",
       "      <th>10</th>\n",
       "      <td>Brian Kreis</td>\n",
       "      <td>200000</td>\n",
       "      <td>197168.454958</td>\n",
       "      <td>-0.014158</td>\n",
       "      <td>17.0</td>\n",
       "    </tr>\n",
       "    <tr>\n",
       "      <th>51</th>\n",
       "      <td>Sherlock Bacchus</td>\n",
       "      <td>200000</td>\n",
       "      <td>197085.279288</td>\n",
       "      <td>-0.014574</td>\n",
       "      <td>18.0</td>\n",
       "    </tr>\n",
       "    <tr>\n",
       "      <th>45</th>\n",
       "      <td>Randy Benedict</td>\n",
       "      <td>200000</td>\n",
       "      <td>196815.318985</td>\n",
       "      <td>-0.015923</td>\n",
       "      <td>19.0</td>\n",
       "    </tr>\n",
       "    <tr>\n",
       "      <th>35</th>\n",
       "      <td>Luke Scarchilli</td>\n",
       "      <td>200000</td>\n",
       "      <td>195552.551295</td>\n",
       "      <td>-0.022237</td>\n",
       "      <td>20.0</td>\n",
       "    </tr>\n",
       "    <tr>\n",
       "      <th>15</th>\n",
       "      <td>David Hunn</td>\n",
       "      <td>200000</td>\n",
       "      <td>195274.114337</td>\n",
       "      <td>-0.023629</td>\n",
       "      <td>21.0</td>\n",
       "    </tr>\n",
       "    <tr>\n",
       "      <th>20</th>\n",
       "      <td>Emmalie Giaimo</td>\n",
       "      <td>200000</td>\n",
       "      <td>194315.298330</td>\n",
       "      <td>-0.028424</td>\n",
       "      <td>22.0</td>\n",
       "    </tr>\n",
       "    <tr>\n",
       "      <th>26</th>\n",
       "      <td>Joelean Mcbride</td>\n",
       "      <td>200000</td>\n",
       "      <td>193353.101162</td>\n",
       "      <td>-0.033234</td>\n",
       "      <td>23.0</td>\n",
       "    </tr>\n",
       "    <tr>\n",
       "      <th>44</th>\n",
       "      <td>Philip Cortese</td>\n",
       "      <td>200000</td>\n",
       "      <td>190410.691016</td>\n",
       "      <td>-0.047947</td>\n",
       "      <td>24.0</td>\n",
       "    </tr>\n",
       "    <tr>\n",
       "      <th>18</th>\n",
       "      <td>Eli Rabinowitz</td>\n",
       "      <td>200000</td>\n",
       "      <td>188786.248005</td>\n",
       "      <td>-0.056069</td>\n",
       "      <td>25.0</td>\n",
       "    </tr>\n",
       "  </tbody>\n",
       "</table>\n",
       "</div>"
      ],
      "text/plain": [
       "                 Name  Cost Basis  Current_Value  Perc_Return  Rank\n",
       "47      Robert Kovacs      200000  222425.641226     0.112128   1.0\n",
       "29    Kelly Nicholson      200000  209844.456116     0.049222   2.0\n",
       "40       Nick Capullo      200000  204190.360137     0.020952   3.0\n",
       "19       Elise Shaver      200000  202405.078427     0.012025   4.0\n",
       "42       Pete Lindner      200000  202218.070438     0.011090   5.0\n",
       "30    Kimberly Matzen      200000  201896.293033     0.009481   6.0\n",
       "54       Trudy Seeber      200000  201794.599095     0.008973   7.0\n",
       "7         Barb Derian      200000  201144.430136     0.005722   8.0\n",
       "9   Bradley Bonfante       200000  200901.003604     0.004505   9.0\n",
       "13    Dan Cancelliere      200000  200476.418884     0.002382  10.0\n",
       "27     Joseph Lindner      200000  200059.113948     0.000296  11.0\n",
       "48     Ryan St. Peter      200000  199678.776498    -0.001606  12.0\n",
       "5    Anil Mulchandani      200000  199398.647105    -0.003007  13.0\n",
       "41       Nori Lansing      200000  198578.698827    -0.007107  14.0\n",
       "31        Krista Nash      200000  197802.219545    -0.010989  15.0\n",
       "39    Melissa Stamper      200000  197441.840940    -0.012791  16.0\n",
       "10        Brian Kreis      200000  197168.454958    -0.014158  17.0\n",
       "51   Sherlock Bacchus      200000  197085.279288    -0.014574  18.0\n",
       "45     Randy Benedict      200000  196815.318985    -0.015923  19.0\n",
       "35    Luke Scarchilli      200000  195552.551295    -0.022237  20.0\n",
       "15         David Hunn      200000  195274.114337    -0.023629  21.0\n",
       "20     Emmalie Giaimo      200000  194315.298330    -0.028424  22.0\n",
       "26    Joelean Mcbride      200000  193353.101162    -0.033234  23.0\n",
       "44     Philip Cortese      200000  190410.691016    -0.047947  24.0\n",
       "18     Eli Rabinowitz      200000  188786.248005    -0.056069  25.0"
      ]
     },
     "execution_count": 41,
     "metadata": {},
     "output_type": "execute_result"
    }
   ],
   "source": [
    "ranking['Perc_Return'] = ranking['Current_Value']/ranking['Cost Basis'] -1\n",
    "ranking['Rank'] = ranking['Perc_Return'].rank(ascending=False)\n",
    "ranking.head(25)"
   ]
  },
  {
   "cell_type": "code",
   "execution_count": 42,
   "metadata": {
    "collapsed": true
   },
   "outputs": [],
   "source": [
    "ranking.to_csv(\"individual rankings.csv\")"
   ]
  },
  {
   "cell_type": "markdown",
   "metadata": {},
   "source": [
    "### Best Individual Stock Returns"
   ]
  },
  {
   "cell_type": "code",
   "execution_count": 43,
   "metadata": {
    "collapsed": true
   },
   "outputs": [],
   "source": [
    "best_stocks = detail.drop_duplicates(['Symbol']).reset_index().sort_values(['Perc_Return'], ascending=False)"
   ]
  },
  {
   "cell_type": "code",
   "execution_count": 44,
   "metadata": {},
   "outputs": [
    {
     "data": {
      "text/html": [
       "<div>\n",
       "<style scoped>\n",
       "    .dataframe tbody tr th:only-of-type {\n",
       "        vertical-align: middle;\n",
       "    }\n",
       "\n",
       "    .dataframe tbody tr th {\n",
       "        vertical-align: top;\n",
       "    }\n",
       "\n",
       "    .dataframe thead th {\n",
       "        text-align: right;\n",
       "    }\n",
       "</style>\n",
       "<table border=\"1\" class=\"dataframe\">\n",
       "  <thead>\n",
       "    <tr style=\"text-align: right;\">\n",
       "      <th></th>\n",
       "      <th>Symbol</th>\n",
       "      <th>Perc_Return</th>\n",
       "    </tr>\n",
       "  </thead>\n",
       "  <tbody>\n",
       "    <tr>\n",
       "      <th>79</th>\n",
       "      <td>PIR</td>\n",
       "      <td>0.740260</td>\n",
       "    </tr>\n",
       "    <tr>\n",
       "      <th>165</th>\n",
       "      <td>HOV</td>\n",
       "      <td>0.516154</td>\n",
       "    </tr>\n",
       "    <tr>\n",
       "      <th>171</th>\n",
       "      <td>HOME</td>\n",
       "      <td>0.296961</td>\n",
       "    </tr>\n",
       "    <tr>\n",
       "      <th>234</th>\n",
       "      <td>RVNC</td>\n",
       "      <td>0.243790</td>\n",
       "    </tr>\n",
       "    <tr>\n",
       "      <th>148</th>\n",
       "      <td>ATLC</td>\n",
       "      <td>0.241915</td>\n",
       "    </tr>\n",
       "    <tr>\n",
       "      <th>106</th>\n",
       "      <td>GME</td>\n",
       "      <td>0.225058</td>\n",
       "    </tr>\n",
       "    <tr>\n",
       "      <th>182</th>\n",
       "      <td>DRRX</td>\n",
       "      <td>0.224719</td>\n",
       "    </tr>\n",
       "    <tr>\n",
       "      <th>203</th>\n",
       "      <td>FNMAL</td>\n",
       "      <td>0.194667</td>\n",
       "    </tr>\n",
       "    <tr>\n",
       "      <th>125</th>\n",
       "      <td>MARK</td>\n",
       "      <td>0.183673</td>\n",
       "    </tr>\n",
       "    <tr>\n",
       "      <th>97</th>\n",
       "      <td>PLUG</td>\n",
       "      <td>0.172566</td>\n",
       "    </tr>\n",
       "  </tbody>\n",
       "</table>\n",
       "</div>"
      ],
      "text/plain": [
       "    Symbol  Perc_Return\n",
       "79     PIR     0.740260\n",
       "165    HOV     0.516154\n",
       "171   HOME     0.296961\n",
       "234   RVNC     0.243790\n",
       "148   ATLC     0.241915\n",
       "106    GME     0.225058\n",
       "182   DRRX     0.224719\n",
       "203  FNMAL     0.194667\n",
       "125   MARK     0.183673\n",
       "97    PLUG     0.172566"
      ]
     },
     "execution_count": 44,
     "metadata": {},
     "output_type": "execute_result"
    }
   ],
   "source": [
    "best_stocks = best_stocks.loc[:, ['Symbol', 'Perc_Return']]\n",
    "best_stocks.head(10)"
   ]
  },
  {
   "cell_type": "code",
   "execution_count": 45,
   "metadata": {
    "collapsed": true
   },
   "outputs": [],
   "source": [
    "best_stocks.to_csv(\"stock ranking.csv\")"
   ]
  },
  {
   "cell_type": "markdown",
   "metadata": {},
   "source": [
    "# Trend"
   ]
  },
  {
   "cell_type": "code",
   "execution_count": null,
   "metadata": {
    "collapsed": true
   },
   "outputs": [],
   "source": [
    "#Pull Only necessary columns\n",
    "combined = combined.loc[:, ['Name', 'Symbol', '# of Shares']]"
   ]
  },
  {
   "cell_type": "code",
   "execution_count": null,
   "metadata": {
    "collapsed": true
   },
   "outputs": [],
   "source": [
    "Price_History = stockData(stocks['Ticker'], '2019-08-01', '2019-09-06')"
   ]
  },
  {
   "cell_type": "code",
   "execution_count": null,
   "metadata": {
    "collapsed": true
   },
   "outputs": [],
   "source": [
    "historical = pd.merge(combined, Price_History, how = 'outer', on = \"Symbol\", validate=\"many_to_many\")\n"
   ]
  },
  {
   "cell_type": "code",
   "execution_count": null,
   "metadata": {
    "collapsed": true
   },
   "outputs": [],
   "source": [
    "historical['Value'] = historical['# of Shares'] * historical['Close']\n",
    "historical.head()"
   ]
  },
  {
   "cell_type": "code",
   "execution_count": null,
   "metadata": {
    "collapsed": true
   },
   "outputs": [],
   "source": [
    "trend_data = historical.groupby(['Name', 'Day'])['Value'].sum().reset_index().sort_values(['Name', 'Day'])"
   ]
  },
  {
   "cell_type": "code",
   "execution_count": null,
   "metadata": {
    "collapsed": true
   },
   "outputs": [],
   "source": [
    "trend_data.head()"
   ]
  },
  {
   "cell_type": "code",
   "execution_count": 1,
   "metadata": {
    "collapsed": true
   },
   "outputs": [],
   "source": [
    "import chart_studio.plotly as py\n",
    "import plotly.graph_objs as go\n",
    "from plotly.offline import iplot, init_notebook_mode"
   ]
  }
 ],
 "metadata": {
  "kernelspec": {
   "display_name": "Python 3",
   "language": "python",
   "name": "python3"
  },
  "language_info": {
   "codemirror_mode": {
    "name": "ipython",
    "version": 3
   },
   "file_extension": ".py",
   "mimetype": "text/x-python",
   "name": "python",
   "nbconvert_exporter": "python",
   "pygments_lexer": "ipython3",
   "version": "3.6.2"
  }
 },
 "nbformat": 4,
 "nbformat_minor": 2
}
