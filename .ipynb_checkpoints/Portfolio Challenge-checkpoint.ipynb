{
 "cells": [
  {
   "cell_type": "code",
   "execution_count": 1,
   "metadata": {
    "collapsed": true,
    "scrolled": true
   },
   "outputs": [],
   "source": [
    "import os\n",
    "import pandas as pd\n",
    "import numpy as np\n",
    "import pandas_datareader\n",
    "from pandas_datareader import data as pdr\n",
    "from datetime import datetime, timedelta\n",
    "import yfinance as yf\n",
    "\n",
    "def stockData(sList, stDate, endDate):\n",
    "    \"\"\"Take list of stocks and pull data for that stock and create technical indicator variables\n",
    "    sList requires list of stocks, dates should be entered in format 'YYYY-MM-DD' \"\"\"\n",
    "   \n",
    "    data = []\n",
    "    for element in sList:\n",
    "        try:\n",
    "            temp = pdr.get_data_yahoo(element, start = stDate, end = endDate)\n",
    "            #add an indentifier\n",
    "            temp['Symbol'] = element\n",
    "            temp['Close'] = temp['Close']\n",
    "        except: \n",
    "            #If stock symbol cannot be found make it $1\n",
    "            print (element)\n",
    "            temp['Symbol'] = element\n",
    "            temp['Close'] = 1\n",
    "        else:\n",
    "        #add data to list \n",
    "            data.append(temp)\n",
    "        #convert to dataframe    \n",
    "        df = pd.concat(data)\n",
    "        #drop rows for which we will not have all data points calculated\n",
    "        df = df.dropna()\n",
    "        #dates above what user entered\n",
    "        df = df.loc[stDate : endDate]\n",
    "        #order and limit columns to those needed\n",
    "        df = df.loc[:, ['Symbol', 'Close']]\n",
    "        df['Day'] = pd.to_datetime(df.index)\n",
    "\n",
    "    \n",
    "    return(df)\n"
   ]
  },
  {
   "cell_type": "code",
   "execution_count": 2,
   "metadata": {
    "collapsed": true
   },
   "outputs": [],
   "source": [
    "#set working directory \n",
    "os.chdir(\"/Users/bkrei/Desktop/Bk's Stuff Desktop/School/Github NEW PATH/Portfolio-Challenge\")"
   ]
  },
  {
   "cell_type": "code",
   "execution_count": 3,
   "metadata": {
    "collapsed": true
   },
   "outputs": [],
   "source": [
    "#Read in individual portfolios\n",
    "portfolios = pd.read_csv(\"https://raw.githubusercontent.com/bkreis84/Portfolio-Challenge/master/Portfolios.csv\")"
   ]
  },
  {
   "cell_type": "code",
   "execution_count": 4,
   "metadata": {},
   "outputs": [
    {
     "data": {
      "text/plain": [
       "0       AAPL\n",
       "1      AGTHX\n",
       "2       AMZN\n",
       "3        CHE\n",
       "4       DOCU\n",
       "5      GSGRX\n",
       "6       ICLN\n",
       "7      OEGAX\n",
       "8       PBFS\n",
       "9        QQQ\n",
       "10       SPY\n",
       "13     BRK-B\n",
       "14     CMCSA\n",
       "15       CVS\n",
       "16       DIS\n",
       "17        GE\n",
       "18       JNJ\n",
       "19       JPM\n",
       "20      NFLX\n",
       "22      SBUX\n",
       "23       XOM\n",
       "28        BA\n",
       "29         C\n",
       "30      CHWY\n",
       "31      CVRS\n",
       "32      DELL\n",
       "33       IAG\n",
       "37       BAM\n",
       "38       BEP\n",
       "39       CGC\n",
       "       ...  \n",
       "382       KR\n",
       "383     UUUU\n",
       "384     ZIXI\n",
       "385     Lulu\n",
       "390      MTZ\n",
       "393     goog\n",
       "394      Dis\n",
       "397      NOC\n",
       "399      TPL\n",
       "401     ANET\n",
       "402     INGN\n",
       "403      MED\n",
       "404      SVB\n",
       "405     ALXN\n",
       "407      RTN\n",
       "409     ACST\n",
       "411      DNR\n",
       "413       NM\n",
       "423       JP\n",
       "426        X\n",
       "441     CELG\n",
       "442     COUP\n",
       "443     CTSH\n",
       "449     FTNT\n",
       "450      HON\n",
       "473      SAM\n",
       "477      CXO\n",
       "478     GWPH\n",
       "480     MOMO\n",
       "482     RVNC\n",
       "Name: Symbol, Length: 238, dtype: object"
      ]
     },
     "execution_count": 4,
     "metadata": {},
     "output_type": "execute_result"
    }
   ],
   "source": [
    "#List of all ticker symbols\n",
    "symbols = portfolios['Symbol'].drop_duplicates()\n",
    "symbols.head(300)"
   ]
  },
  {
   "cell_type": "code",
   "execution_count": 7,
   "metadata": {
    "collapsed": true
   },
   "outputs": [],
   "source": [
    "symbols.to_csv(\"symbols.csv\", header = False)"
   ]
  },
  {
   "cell_type": "code",
   "execution_count": null,
   "metadata": {
    "collapsed": true
   },
   "outputs": [],
   "source": [
    "#Pass the ticker list to the function, print invalid stock symbols and create dataframe with intial prices\n",
    "beg_prices = stockData(list(symbols), '2019-09-06', '2019-09-06')\n",
    "beg_prices.shape"
   ]
  },
  {
   "cell_type": "code",
   "execution_count": null,
   "metadata": {
    "collapsed": true
   },
   "outputs": [],
   "source": [
    "#Pull SNAP which for some reason is the only stock with an issue.\n",
    "er = stockData(['SNAP'], '2019-09-06', '2019-09-06')"
   ]
  },
  {
   "cell_type": "code",
   "execution_count": null,
   "metadata": {
    "collapsed": true
   },
   "outputs": [],
   "source": [
    "#Combine the main and SNAP dataframes\n",
    "frames = [beg_prices, er]\n",
    "beg_prices = pd.concat(frames)"
   ]
  },
  {
   "cell_type": "code",
   "execution_count": null,
   "metadata": {
    "collapsed": true
   },
   "outputs": [],
   "source": [
    "beg_prices.to_csv(\"beg_prices.csv\")"
   ]
  },
  {
   "cell_type": "code",
   "execution_count": null,
   "metadata": {
    "collapsed": true
   },
   "outputs": [],
   "source": [
    "combined = pd.merge(portfolios, beg_prices, how = 'left', on = \"Symbol\", validate=\"many_to_one\")"
   ]
  },
  {
   "cell_type": "code",
   "execution_count": null,
   "metadata": {},
   "outputs": [],
   "source": [
    "combined.head(100)"
   ]
  },
  {
   "cell_type": "code",
   "execution_count": null,
   "metadata": {},
   "outputs": [],
   "source": [
    "#Calc # of shares purchased\n",
    "combined[\"# of Shares\"] = combined[\"Cost Basis\"]/ combined[\"Close\"]\n",
    "#Convert names to proper case\n",
    "#combined['Name'] = list(map(lambda x: x.title(), combined['Name']))\n",
    "#combined.head()"
   ]
  },
  {
   "cell_type": "code",
   "execution_count": null,
   "metadata": {
    "collapsed": true
   },
   "outputs": [],
   "source": [
    "combined.to_csv(\"initial portfolios.csv\")"
   ]
  },
  {
   "cell_type": "markdown",
   "metadata": {},
   "source": [
    "# Simple Comparison (Initial vs Current Value)"
   ]
  },
  {
   "cell_type": "code",
   "execution_count": null,
   "metadata": {
    "collapsed": true
   },
   "outputs": [],
   "source": [
    "#Select date to compare to initial prices\n",
    "cur_prices = stockData(list(symbols), '2019-09-18', '2019-09-18')"
   ]
  },
  {
   "cell_type": "code",
   "execution_count": null,
   "metadata": {
    "collapsed": true
   },
   "outputs": [],
   "source": [
    "#Pull SNAP which for some reason is the only stock with an issue.\n",
    "er2 =  stockData(['SNAP'], '2019-09-12', '2019-09-12')"
   ]
  },
  {
   "cell_type": "code",
   "execution_count": null,
   "metadata": {
    "collapsed": true
   },
   "outputs": [],
   "source": [
    "#Combine the main and SNAP dataframes\n",
    "frames2 = [cur_prices, er2]\n",
    "cur_prices = pd.concat(frames2)"
   ]
  },
  {
   "cell_type": "code",
   "execution_count": null,
   "metadata": {
    "collapsed": true
   },
   "outputs": [],
   "source": [
    "cur_prices.sort_values(\"Symbol\", inplace = True)\n",
    "cur_prices.drop_duplicates(subset = \"Symbol\", inplace = True)"
   ]
  },
  {
   "cell_type": "code",
   "execution_count": null,
   "metadata": {
    "collapsed": true
   },
   "outputs": [],
   "source": [
    "cur_prices.to_csv(\"cur_prices.csv\")"
   ]
  },
  {
   "cell_type": "code",
   "execution_count": null,
   "metadata": {
    "collapsed": true
   },
   "outputs": [],
   "source": [
    "cur_prices.head()"
   ]
  },
  {
   "cell_type": "code",
   "execution_count": null,
   "metadata": {
    "collapsed": true
   },
   "outputs": [],
   "source": [
    "detail = pd.merge(combined, cur_prices, how = 'left', on = \"Symbol\", validate=\"many_to_one\")"
   ]
  },
  {
   "cell_type": "code",
   "execution_count": null,
   "metadata": {
    "collapsed": true
   },
   "outputs": [],
   "source": [
    "detail.head()"
   ]
  },
  {
   "cell_type": "code",
   "execution_count": null,
   "metadata": {
    "collapsed": true
   },
   "outputs": [],
   "source": [
    "detail['Current_Value'] = detail['Close_y'] * detail['# of Shares']\n",
    "detail['Perc_Return'] = detail['Close_y']/detail['Close_x']  -1\n",
    "detail.head(5)"
   ]
  },
  {
   "cell_type": "code",
   "execution_count": null,
   "metadata": {
    "collapsed": true
   },
   "outputs": [],
   "source": [
    "detail.to_csv(\"detail.csv\")"
   ]
  },
  {
   "cell_type": "markdown",
   "metadata": {},
   "source": [
    "### Individual Performance"
   ]
  },
  {
   "cell_type": "code",
   "execution_count": null,
   "metadata": {
    "collapsed": true
   },
   "outputs": [],
   "source": [
    "ranking = detail.groupby(\"Name\")['Cost Basis', 'Current_Value'].sum().reset_index().sort_values(\"Current_Value\", ascending=False)"
   ]
  },
  {
   "cell_type": "code",
   "execution_count": null,
   "metadata": {
    "collapsed": true,
    "scrolled": true
   },
   "outputs": [],
   "source": [
    "ranking['Perc_Return'] = ranking['Current_Value']/ranking['Cost Basis'] -1\n",
    "ranking['Rank'] = ranking['Perc_Return'].rank(ascending=False)\n",
    "ranking.head(10)"
   ]
  },
  {
   "cell_type": "code",
   "execution_count": null,
   "metadata": {
    "collapsed": true
   },
   "outputs": [],
   "source": [
    "ranking.to_csv(\"individual rankings.csv\")"
   ]
  },
  {
   "cell_type": "markdown",
   "metadata": {},
   "source": [
    "### Best Individual Stock Returns"
   ]
  },
  {
   "cell_type": "code",
   "execution_count": null,
   "metadata": {
    "collapsed": true
   },
   "outputs": [],
   "source": [
    "best_stocks = detail.drop_duplicates(['Symbol']).reset_index().sort_values(['Perc_Return'], ascending=False)"
   ]
  },
  {
   "cell_type": "code",
   "execution_count": null,
   "metadata": {
    "collapsed": true
   },
   "outputs": [],
   "source": [
    "best_stocks = best_stocks.loc[:, ['Symbol', 'Perc_Return']]\n",
    "best_stocks.head(10)"
   ]
  },
  {
   "cell_type": "code",
   "execution_count": null,
   "metadata": {
    "collapsed": true
   },
   "outputs": [],
   "source": [
    "best_stocks.to_csv(\"stock ranking.csv\")"
   ]
  },
  {
   "cell_type": "markdown",
   "metadata": {},
   "source": [
    "# Trend"
   ]
  },
  {
   "cell_type": "code",
   "execution_count": null,
   "metadata": {
    "collapsed": true
   },
   "outputs": [],
   "source": [
    "#Pull Only necessary columns\n",
    "combined = combined.loc[:, ['Name', 'Symbol', '# of Shares']]"
   ]
  },
  {
   "cell_type": "code",
   "execution_count": null,
   "metadata": {
    "collapsed": true
   },
   "outputs": [],
   "source": [
    "Price_History = stockData(stocks['Ticker'], '2019-08-01', '2019-09-06')"
   ]
  },
  {
   "cell_type": "code",
   "execution_count": null,
   "metadata": {
    "collapsed": true
   },
   "outputs": [],
   "source": [
    "historical = pd.merge(combined, Price_History, how = 'outer', on = \"Symbol\", validate=\"many_to_many\")\n"
   ]
  },
  {
   "cell_type": "code",
   "execution_count": null,
   "metadata": {
    "collapsed": true
   },
   "outputs": [],
   "source": [
    "historical['Value'] = historical['# of Shares'] * historical['Close']\n",
    "historical.head()"
   ]
  },
  {
   "cell_type": "code",
   "execution_count": null,
   "metadata": {
    "collapsed": true
   },
   "outputs": [],
   "source": [
    "trend_data = historical.groupby(['Name', 'Day'])['Value'].sum().reset_index().sort_values(['Name', 'Day'])"
   ]
  },
  {
   "cell_type": "code",
   "execution_count": null,
   "metadata": {
    "collapsed": true
   },
   "outputs": [],
   "source": [
    "trend_data.head()"
   ]
  },
  {
   "cell_type": "code",
   "execution_count": 1,
   "metadata": {
    "collapsed": true
   },
   "outputs": [],
   "source": [
    "import chart_studio.plotly as py\n",
    "import plotly.graph_objs as go\n",
    "from plotly.offline import iplot, init_notebook_mode"
   ]
  }
 ],
 "metadata": {
  "kernelspec": {
   "display_name": "Python 3",
   "language": "python",
   "name": "python3"
  },
  "language_info": {
   "codemirror_mode": {
    "name": "ipython",
    "version": 3
   },
   "file_extension": ".py",
   "mimetype": "text/x-python",
   "name": "python",
   "nbconvert_exporter": "python",
   "pygments_lexer": "ipython3",
   "version": "3.6.2"
  }
 },
 "nbformat": 4,
 "nbformat_minor": 2
}
