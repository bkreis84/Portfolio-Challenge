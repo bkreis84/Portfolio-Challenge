{
 "cells": [
  {
   "cell_type": "code",
   "execution_count": 24,
   "metadata": {
    "collapsed": true,
    "scrolled": true
   },
   "outputs": [],
   "source": [
    "import os\n",
    "import pandas as pd\n",
    "import numpy as np\n",
    "import pandas_datareader\n",
    "from pandas_datareader import data as pdr\n",
    "from datetime import datetime, timedelta\n",
    "import yfinance as yf\n",
    "\n",
    "def stockData(sList, stDate, endDate):\n",
    "    \"\"\"Take list of stocks and pull data for that stock and create technical indicator variables\n",
    "    sList requires list of stocks, dates should be entered in format 'YYYY-MM-DD' \"\"\"\n",
    "   \n",
    "    data = []\n",
    "    for element in sList:\n",
    "        try:\n",
    "            temp = pdr.get_data_yahoo(element, start = stDate, end = endDate)\n",
    "            #add an indentifier\n",
    "            temp['Symbol'] = element\n",
    "            temp['Close'] = temp['Close']\n",
    "        except: \n",
    "            #If stock symbol cannot be found make it $1\n",
    "            print (element)\n",
    "            temp['Symbol'] = element\n",
    "            temp['Close'] = 1\n",
    "        else:\n",
    "        #add data to list \n",
    "            data.append(temp)\n",
    "        #convert to dataframe    \n",
    "        df = pd.concat(data)\n",
    "        #drop rows for which we will not have all data points calculated\n",
    "        df = df.dropna()\n",
    "        #dates above what user entered\n",
    "        df = df.loc[stDate : endDate]\n",
    "        #order and limit columns to those needed\n",
    "        df = df.loc[:, ['Symbol', 'Close']]\n",
    "        df['Day'] = pd.to_datetime(df.index)\n",
    "\n",
    "    \n",
    "    return(df)\n"
   ]
  },
  {
   "cell_type": "code",
   "execution_count": 25,
   "metadata": {
    "collapsed": true
   },
   "outputs": [],
   "source": [
    "#set working directory \n",
    "os.chdir(\"/Users/bkrei/Desktop/Bk's Stuff Desktop/School/Github NEW PATH/Portfolio-Challenge\")"
   ]
  },
  {
   "cell_type": "code",
   "execution_count": 42,
   "metadata": {},
   "outputs": [],
   "source": [
    "#Read in individual portfolios\n",
    "portfolios = pd.read_csv(\"https://raw.githubusercontent.com/bkreis84/Portfolio-Challenge/master/New%20Baseline.csv\")"
   ]
  },
  {
   "cell_type": "code",
   "execution_count": 28,
   "metadata": {},
   "outputs": [],
   "source": [
    "port1 = portfolios.loc[portfolios['Port_Num'] == 1]"
   ]
  },
  {
   "cell_type": "code",
   "execution_count": 43,
   "metadata": {},
   "outputs": [],
   "source": [
    "port2 = portfolios.loc[portfolios['Port_Num'] == 2]"
   ]
  },
  {
   "cell_type": "code",
   "execution_count": 30,
   "metadata": {},
   "outputs": [
    {
     "data": {
      "text/plain": [
       "0     AAPL\n",
       "1    AGTHX\n",
       "2     AMZN\n",
       "3      CHE\n",
       "4     DOCU\n",
       "5    GSGRX\n",
       "6     ICLN\n",
       "7    OEGAX\n",
       "8     PBFS\n",
       "9      QQQ\n",
       "Name: Symbol, dtype: object"
      ]
     },
     "execution_count": 30,
     "metadata": {},
     "output_type": "execute_result"
    }
   ],
   "source": [
    "#List of all ticker symbols\n",
    "symbols1 = port1['Symbol'].drop_duplicates()\n",
    "symbols1.head(10)"
   ]
  },
  {
   "cell_type": "code",
   "execution_count": 44,
   "metadata": {},
   "outputs": [
    {
     "data": {
      "text/plain": [
       "283     AAPL\n",
       "284      IBM\n",
       "285      PIR\n",
       "286      WMT\n",
       "287    GOOGL\n",
       "288     DOCU\n",
       "289      GCO\n",
       "290     ATLC\n",
       "291      XOM\n",
       "292      FCA\n",
       "Name: Symbol, dtype: object"
      ]
     },
     "execution_count": 44,
     "metadata": {},
     "output_type": "execute_result"
    }
   ],
   "source": [
    "#List of all ticker symbols\n",
    "symbols2 = port2['Symbol'].drop_duplicates()\n",
    "symbols2.head(10)"
   ]
  },
  {
   "cell_type": "code",
   "execution_count": 39,
   "metadata": {
    "collapsed": true
   },
   "outputs": [],
   "source": [
    "symbols1.to_csv(\"symbols port1.csv\", header = False)\n",
    "symbols2.to_csv(\"symbols port2.csv\", header = False)"
   ]
  },
  {
   "cell_type": "code",
   "execution_count": null,
   "metadata": {
    "collapsed": true
   },
   "outputs": [],
   "source": []
  },
  {
   "cell_type": "code",
   "execution_count": 40,
   "metadata": {},
   "outputs": [
    {
     "name": "stdout",
     "output_type": "stream",
     "text": [
      "CASHPIO\n"
     ]
    },
    {
     "data": {
      "text/plain": [
       "(160, 3)"
      ]
     },
     "execution_count": 40,
     "metadata": {},
     "output_type": "execute_result"
    }
   ],
   "source": [
    "#Prices Port 1\n",
    "#Pass the ticker list to the function, print invalid stock symbols and create dataframe with intial prices\n",
    "beg_prices1 = stockData(list(symbols1), '2019-09-06', '2019-09-06')\n",
    "beg_prices1.shape"
   ]
  },
  {
   "cell_type": "code",
   "execution_count": 41,
   "metadata": {
    "collapsed": true
   },
   "outputs": [],
   "source": [
    "beg_prices1.to_csv(\"prices port1.csv\", header = False)"
   ]
  },
  {
   "cell_type": "code",
   "execution_count": 35,
   "metadata": {
    "collapsed": true
   },
   "outputs": [],
   "source": [
    "#Error handling port 1\n",
    "#er1 = stockData(['SNAP'], '2019-09-06', '2019-09-06')"
   ]
  },
  {
   "cell_type": "code",
   "execution_count": 45,
   "metadata": {},
   "outputs": [
    {
     "data": {
      "text/plain": [
       "(104, 3)"
      ]
     },
     "execution_count": 45,
     "metadata": {},
     "output_type": "execute_result"
    }
   ],
   "source": [
    "#Prices Port 2\n",
    "#Pass the ticker list to the function, print invalid stock symbols and create dataframe with intial prices\n",
    "\n",
    "beg_prices2 = stockData(list(symbols2), '2019-09-27', '2019-09-27')\n",
    "beg_prices2.shape"
   ]
  },
  {
   "cell_type": "code",
   "execution_count": 8,
   "metadata": {
    "collapsed": true
   },
   "outputs": [],
   "source": [
    "#Pull SNAP which for some reason is the only stock with an issue.\n",
    "#er2 = stockData(['SNAP'], '2019-09-27', '2019-09-27')"
   ]
  },
  {
   "cell_type": "code",
   "execution_count": 46,
   "metadata": {
    "collapsed": true
   },
   "outputs": [],
   "source": [
    "beg_prices2.to_csv(\"prices port2.csv\", header = False)"
   ]
  },
  {
   "cell_type": "code",
   "execution_count": 9,
   "metadata": {
    "collapsed": true
   },
   "outputs": [],
   "source": [
    "#Combine the main and SNAP dataframes\n",
    "#frames = [beg_prices, er]\n",
    "#beg_prices = pd.concat(frames)"
   ]
  },
  {
   "cell_type": "code",
   "execution_count": 4,
   "metadata": {
    "collapsed": true
   },
   "outputs": [],
   "source": [
    "beg_prices = pd.read_csv(\"https://raw.githubusercontent.com/bkreis84/Portfolio-Challenge/master/beg_prices.csv\")\n",
    "combined = pd.merge(portfolios, beg_prices, how = 'left', on = \"Symbol\", validate=\"many_to_one\")"
   ]
  },
  {
   "cell_type": "code",
   "execution_count": 5,
   "metadata": {},
   "outputs": [
    {
     "data": {
      "text/html": [
       "<div>\n",
       "<style scoped>\n",
       "    .dataframe tbody tr th:only-of-type {\n",
       "        vertical-align: middle;\n",
       "    }\n",
       "\n",
       "    .dataframe tbody tr th {\n",
       "        vertical-align: top;\n",
       "    }\n",
       "\n",
       "    .dataframe thead th {\n",
       "        text-align: right;\n",
       "    }\n",
       "</style>\n",
       "<table border=\"1\" class=\"dataframe\">\n",
       "  <thead>\n",
       "    <tr style=\"text-align: right;\">\n",
       "      <th></th>\n",
       "      <th>Name</th>\n",
       "      <th>Symbol</th>\n",
       "      <th>% of Portfolio</th>\n",
       "      <th>Cost Basis</th>\n",
       "      <th>Date</th>\n",
       "      <th>Close</th>\n",
       "      <th>Day</th>\n",
       "    </tr>\n",
       "  </thead>\n",
       "  <tbody>\n",
       "    <tr>\n",
       "      <th>0</th>\n",
       "      <td>Adrienne Villano</td>\n",
       "      <td>AAPL</td>\n",
       "      <td>0.07</td>\n",
       "      <td>14000</td>\n",
       "      <td>2019-09-06</td>\n",
       "      <td>213.259995</td>\n",
       "      <td>2019-09-06</td>\n",
       "    </tr>\n",
       "    <tr>\n",
       "      <th>1</th>\n",
       "      <td>Adrienne Villano</td>\n",
       "      <td>AGTHX</td>\n",
       "      <td>0.11</td>\n",
       "      <td>22000</td>\n",
       "      <td>2019-09-06</td>\n",
       "      <td>50.000000</td>\n",
       "      <td>2019-09-06</td>\n",
       "    </tr>\n",
       "    <tr>\n",
       "      <th>2</th>\n",
       "      <td>Adrienne Villano</td>\n",
       "      <td>AMZN</td>\n",
       "      <td>0.07</td>\n",
       "      <td>14000</td>\n",
       "      <td>2019-09-06</td>\n",
       "      <td>1833.510010</td>\n",
       "      <td>2019-09-06</td>\n",
       "    </tr>\n",
       "    <tr>\n",
       "      <th>3</th>\n",
       "      <td>Adrienne Villano</td>\n",
       "      <td>CHE</td>\n",
       "      <td>0.18</td>\n",
       "      <td>36000</td>\n",
       "      <td>2019-09-06</td>\n",
       "      <td>439.820007</td>\n",
       "      <td>2019-09-06</td>\n",
       "    </tr>\n",
       "    <tr>\n",
       "      <th>4</th>\n",
       "      <td>Adrienne Villano</td>\n",
       "      <td>DOCU</td>\n",
       "      <td>0.05</td>\n",
       "      <td>10000</td>\n",
       "      <td>2019-09-06</td>\n",
       "      <td>56.270000</td>\n",
       "      <td>2019-09-06</td>\n",
       "    </tr>\n",
       "  </tbody>\n",
       "</table>\n",
       "</div>"
      ],
      "text/plain": [
       "               Name Symbol % of Portfolio  Cost Basis        Date  \\\n",
       "0  Adrienne Villano   AAPL           0.07       14000  2019-09-06   \n",
       "1  Adrienne Villano  AGTHX           0.11       22000  2019-09-06   \n",
       "2  Adrienne Villano   AMZN           0.07       14000  2019-09-06   \n",
       "3  Adrienne Villano    CHE           0.18       36000  2019-09-06   \n",
       "4  Adrienne Villano   DOCU           0.05       10000  2019-09-06   \n",
       "\n",
       "         Close         Day  \n",
       "0   213.259995  2019-09-06  \n",
       "1    50.000000  2019-09-06  \n",
       "2  1833.510010  2019-09-06  \n",
       "3   439.820007  2019-09-06  \n",
       "4    56.270000  2019-09-06  "
      ]
     },
     "execution_count": 5,
     "metadata": {},
     "output_type": "execute_result"
    }
   ],
   "source": [
    "combined.head(5)"
   ]
  },
  {
   "cell_type": "code",
   "execution_count": 6,
   "metadata": {
    "collapsed": true
   },
   "outputs": [],
   "source": [
    "#Calc # of shares purchased\n",
    "combined[\"# of Shares\"] = combined[\"Cost Basis\"]/ combined[\"Close\"]\n",
    "#Convert names to proper case\n",
    "#combined['Name'] = list(map(lambda x: x.title(), combined['Name']))\n",
    "#combined.head()"
   ]
  },
  {
   "cell_type": "code",
   "execution_count": 15,
   "metadata": {
    "collapsed": true
   },
   "outputs": [],
   "source": [
    "combined.to_csv(\"initial portfolios.csv\")"
   ]
  },
  {
   "cell_type": "code",
   "execution_count": 7,
   "metadata": {
    "collapsed": true
   },
   "outputs": [],
   "source": [
    "initportfolios = pd.read_csv(\"https://raw.githubusercontent.com/bkreis84/Portfolio-Challenge/master/initial%20portfolios.csv\")"
   ]
  },
  {
   "cell_type": "markdown",
   "metadata": {},
   "source": [
    "# Simple Comparison (Initial vs Current Value) START HERE TO UPDATE"
   ]
  },
  {
   "cell_type": "code",
   "execution_count": 34,
   "metadata": {},
   "outputs": [
    {
     "name": "stdout",
     "output_type": "stream",
     "text": [
      "TSS\n",
      "CASHPIO\n",
      "SKIS\n"
     ]
    }
   ],
   "source": [
    "#Select date to compare to initial prices\n",
    "cur_prices = stockData(list(symbols), '2019-09-27', '2019-09-27')"
   ]
  },
  {
   "cell_type": "code",
   "execution_count": 46,
   "metadata": {
    "collapsed": true
   },
   "outputs": [],
   "source": [
    "#Pull SNAP which for some reason is the only stock with an issue.\n",
    "er2 =  stockData(['SNAP', 'TRBCX', 'SHAK'], '2019-09-27', '2019-09-27')\n",
    "er3 =  stockData(['TSS'], '2019-09-17', '2019-09-17')\n",
    "er4 =  stockData(['SKIS'], '2019-09-24', '2019-09-24')"
   ]
  },
  {
   "cell_type": "code",
   "execution_count": 50,
   "metadata": {
    "collapsed": true
   },
   "outputs": [],
   "source": [
    "#Combine the main and SNAP dataframes\n",
    "frames2 = [cur_prices, er2, er3, er4]\n",
    "cur_prices = pd.concat(frames2)"
   ]
  },
  {
   "cell_type": "code",
   "execution_count": 51,
   "metadata": {
    "collapsed": true
   },
   "outputs": [],
   "source": [
    "cur_prices.sort_values(\"Symbol\", inplace = True)\n",
    "cur_prices.drop_duplicates(subset = \"Symbol\", inplace = True)"
   ]
  },
  {
   "cell_type": "code",
   "execution_count": 52,
   "metadata": {
    "collapsed": true
   },
   "outputs": [],
   "source": [
    "cur_prices.to_csv(\"cur_prices.csv\")"
   ]
  },
  {
   "cell_type": "code",
   "execution_count": 25,
   "metadata": {},
   "outputs": [
    {
     "data": {
      "text/html": [
       "<div>\n",
       "<style scoped>\n",
       "    .dataframe tbody tr th:only-of-type {\n",
       "        vertical-align: middle;\n",
       "    }\n",
       "\n",
       "    .dataframe tbody tr th {\n",
       "        vertical-align: top;\n",
       "    }\n",
       "\n",
       "    .dataframe thead th {\n",
       "        text-align: right;\n",
       "    }\n",
       "</style>\n",
       "<table border=\"1\" class=\"dataframe\">\n",
       "  <thead>\n",
       "    <tr style=\"text-align: right;\">\n",
       "      <th></th>\n",
       "      <th>Date</th>\n",
       "      <th>Symbol</th>\n",
       "      <th>Close</th>\n",
       "      <th>Day</th>\n",
       "    </tr>\n",
       "  </thead>\n",
       "  <tbody>\n",
       "    <tr>\n",
       "      <th>0</th>\n",
       "      <td>2019-09-27</td>\n",
       "      <td>AAL</td>\n",
       "      <td>27.010000</td>\n",
       "      <td>2019-09-27</td>\n",
       "    </tr>\n",
       "    <tr>\n",
       "      <th>1</th>\n",
       "      <td>2019-09-27</td>\n",
       "      <td>AAPL</td>\n",
       "      <td>218.820007</td>\n",
       "      <td>2019-09-27</td>\n",
       "    </tr>\n",
       "    <tr>\n",
       "      <th>2</th>\n",
       "      <td>2019-09-27</td>\n",
       "      <td>ACB</td>\n",
       "      <td>4.620000</td>\n",
       "      <td>2019-09-27</td>\n",
       "    </tr>\n",
       "    <tr>\n",
       "      <th>3</th>\n",
       "      <td>2019-09-27</td>\n",
       "      <td>ACER</td>\n",
       "      <td>3.300000</td>\n",
       "      <td>2019-09-27</td>\n",
       "    </tr>\n",
       "    <tr>\n",
       "      <th>4</th>\n",
       "      <td>2019-09-27</td>\n",
       "      <td>ACST</td>\n",
       "      <td>1.960000</td>\n",
       "      <td>2019-09-27</td>\n",
       "    </tr>\n",
       "  </tbody>\n",
       "</table>\n",
       "</div>"
      ],
      "text/plain": [
       "         Date Symbol       Close         Day\n",
       "0  2019-09-27    AAL   27.010000  2019-09-27\n",
       "1  2019-09-27   AAPL  218.820007  2019-09-27\n",
       "2  2019-09-27    ACB    4.620000  2019-09-27\n",
       "3  2019-09-27   ACER    3.300000  2019-09-27\n",
       "4  2019-09-27   ACST    1.960000  2019-09-27"
      ]
     },
     "execution_count": 25,
     "metadata": {},
     "output_type": "execute_result"
    }
   ],
   "source": [
    "#cur_prices= pd.read_csv(\"https://raw.githubusercontent.com/bkreis84/Portfolio-Challenge/master/cur_prices.csv\")\n",
    "#cur_prices.head()\n"
   ]
  },
  {
   "cell_type": "code",
   "execution_count": 53,
   "metadata": {
    "collapsed": true
   },
   "outputs": [],
   "source": [
    "detail = pd.merge(initportfolios, cur_prices, how = 'left', on = \"Symbol\", validate=\"many_to_one\")"
   ]
  },
  {
   "cell_type": "code",
   "execution_count": 54,
   "metadata": {},
   "outputs": [
    {
     "data": {
      "text/html": [
       "<div>\n",
       "<style scoped>\n",
       "    .dataframe tbody tr th:only-of-type {\n",
       "        vertical-align: middle;\n",
       "    }\n",
       "\n",
       "    .dataframe tbody tr th {\n",
       "        vertical-align: top;\n",
       "    }\n",
       "\n",
       "    .dataframe thead th {\n",
       "        text-align: right;\n",
       "    }\n",
       "</style>\n",
       "<table border=\"1\" class=\"dataframe\">\n",
       "  <thead>\n",
       "    <tr style=\"text-align: right;\">\n",
       "      <th></th>\n",
       "      <th>Unnamed: 0</th>\n",
       "      <th>Name</th>\n",
       "      <th>Symbol</th>\n",
       "      <th>% of Portfolio</th>\n",
       "      <th>Cost Basis</th>\n",
       "      <th>Date</th>\n",
       "      <th>Close_x</th>\n",
       "      <th>Day_x</th>\n",
       "      <th># of Shares</th>\n",
       "      <th>Close_y</th>\n",
       "      <th>Day_y</th>\n",
       "    </tr>\n",
       "  </thead>\n",
       "  <tbody>\n",
       "    <tr>\n",
       "      <th>0</th>\n",
       "      <td>0</td>\n",
       "      <td>Adrienne Villano</td>\n",
       "      <td>AAPL</td>\n",
       "      <td>0.07</td>\n",
       "      <td>14000</td>\n",
       "      <td>2019-09-06</td>\n",
       "      <td>213.259995</td>\n",
       "      <td>2019-09-06</td>\n",
       "      <td>65.647568</td>\n",
       "      <td>218.820007</td>\n",
       "      <td>2019-09-27</td>\n",
       "    </tr>\n",
       "    <tr>\n",
       "      <th>1</th>\n",
       "      <td>1</td>\n",
       "      <td>Adrienne Villano</td>\n",
       "      <td>AGTHX</td>\n",
       "      <td>0.11</td>\n",
       "      <td>22000</td>\n",
       "      <td>2019-09-06</td>\n",
       "      <td>50.000000</td>\n",
       "      <td>2019-09-06</td>\n",
       "      <td>440.000000</td>\n",
       "      <td>48.970001</td>\n",
       "      <td>2019-09-27</td>\n",
       "    </tr>\n",
       "    <tr>\n",
       "      <th>2</th>\n",
       "      <td>2</td>\n",
       "      <td>Adrienne Villano</td>\n",
       "      <td>AMZN</td>\n",
       "      <td>0.07</td>\n",
       "      <td>14000</td>\n",
       "      <td>2019-09-06</td>\n",
       "      <td>1833.510010</td>\n",
       "      <td>2019-09-06</td>\n",
       "      <td>7.635628</td>\n",
       "      <td>1725.449951</td>\n",
       "      <td>2019-09-27</td>\n",
       "    </tr>\n",
       "    <tr>\n",
       "      <th>3</th>\n",
       "      <td>3</td>\n",
       "      <td>Adrienne Villano</td>\n",
       "      <td>CHE</td>\n",
       "      <td>0.18</td>\n",
       "      <td>36000</td>\n",
       "      <td>2019-09-06</td>\n",
       "      <td>439.820007</td>\n",
       "      <td>2019-09-06</td>\n",
       "      <td>81.851665</td>\n",
       "      <td>413.179993</td>\n",
       "      <td>2019-09-27</td>\n",
       "    </tr>\n",
       "    <tr>\n",
       "      <th>4</th>\n",
       "      <td>4</td>\n",
       "      <td>Adrienne Villano</td>\n",
       "      <td>DOCU</td>\n",
       "      <td>0.05</td>\n",
       "      <td>10000</td>\n",
       "      <td>2019-09-06</td>\n",
       "      <td>56.270000</td>\n",
       "      <td>2019-09-06</td>\n",
       "      <td>177.714589</td>\n",
       "      <td>60.639999</td>\n",
       "      <td>2019-09-27</td>\n",
       "    </tr>\n",
       "  </tbody>\n",
       "</table>\n",
       "</div>"
      ],
      "text/plain": [
       "   Unnamed: 0              Name Symbol % of Portfolio  Cost Basis        Date  \\\n",
       "0           0  Adrienne Villano   AAPL           0.07       14000  2019-09-06   \n",
       "1           1  Adrienne Villano  AGTHX           0.11       22000  2019-09-06   \n",
       "2           2  Adrienne Villano   AMZN           0.07       14000  2019-09-06   \n",
       "3           3  Adrienne Villano    CHE           0.18       36000  2019-09-06   \n",
       "4           4  Adrienne Villano   DOCU           0.05       10000  2019-09-06   \n",
       "\n",
       "       Close_x       Day_x  # of Shares      Close_y      Day_y  \n",
       "0   213.259995  2019-09-06    65.647568   218.820007 2019-09-27  \n",
       "1    50.000000  2019-09-06   440.000000    48.970001 2019-09-27  \n",
       "2  1833.510010  2019-09-06     7.635628  1725.449951 2019-09-27  \n",
       "3   439.820007  2019-09-06    81.851665   413.179993 2019-09-27  \n",
       "4    56.270000  2019-09-06   177.714589    60.639999 2019-09-27  "
      ]
     },
     "execution_count": 54,
     "metadata": {},
     "output_type": "execute_result"
    }
   ],
   "source": [
    "detail.head()"
   ]
  },
  {
   "cell_type": "code",
   "execution_count": 55,
   "metadata": {},
   "outputs": [
    {
     "data": {
      "text/html": [
       "<div>\n",
       "<style scoped>\n",
       "    .dataframe tbody tr th:only-of-type {\n",
       "        vertical-align: middle;\n",
       "    }\n",
       "\n",
       "    .dataframe tbody tr th {\n",
       "        vertical-align: top;\n",
       "    }\n",
       "\n",
       "    .dataframe thead th {\n",
       "        text-align: right;\n",
       "    }\n",
       "</style>\n",
       "<table border=\"1\" class=\"dataframe\">\n",
       "  <thead>\n",
       "    <tr style=\"text-align: right;\">\n",
       "      <th></th>\n",
       "      <th>Unnamed: 0</th>\n",
       "      <th>Name</th>\n",
       "      <th>Symbol</th>\n",
       "      <th>% of Portfolio</th>\n",
       "      <th>Cost Basis</th>\n",
       "      <th>Date</th>\n",
       "      <th>Close_x</th>\n",
       "      <th>Day_x</th>\n",
       "      <th># of Shares</th>\n",
       "      <th>Close_y</th>\n",
       "      <th>Day_y</th>\n",
       "      <th>Current_Value</th>\n",
       "      <th>Perc_Return</th>\n",
       "    </tr>\n",
       "  </thead>\n",
       "  <tbody>\n",
       "    <tr>\n",
       "      <th>0</th>\n",
       "      <td>0</td>\n",
       "      <td>Adrienne Villano</td>\n",
       "      <td>AAPL</td>\n",
       "      <td>0.07</td>\n",
       "      <td>14000</td>\n",
       "      <td>2019-09-06</td>\n",
       "      <td>213.259995</td>\n",
       "      <td>2019-09-06</td>\n",
       "      <td>65.647568</td>\n",
       "      <td>218.820007</td>\n",
       "      <td>2019-09-27</td>\n",
       "      <td>14365.001320</td>\n",
       "      <td>0.026072</td>\n",
       "    </tr>\n",
       "    <tr>\n",
       "      <th>1</th>\n",
       "      <td>1</td>\n",
       "      <td>Adrienne Villano</td>\n",
       "      <td>AGTHX</td>\n",
       "      <td>0.11</td>\n",
       "      <td>22000</td>\n",
       "      <td>2019-09-06</td>\n",
       "      <td>50.000000</td>\n",
       "      <td>2019-09-06</td>\n",
       "      <td>440.000000</td>\n",
       "      <td>48.970001</td>\n",
       "      <td>2019-09-27</td>\n",
       "      <td>21546.800537</td>\n",
       "      <td>-0.020600</td>\n",
       "    </tr>\n",
       "    <tr>\n",
       "      <th>2</th>\n",
       "      <td>2</td>\n",
       "      <td>Adrienne Villano</td>\n",
       "      <td>AMZN</td>\n",
       "      <td>0.07</td>\n",
       "      <td>14000</td>\n",
       "      <td>2019-09-06</td>\n",
       "      <td>1833.510010</td>\n",
       "      <td>2019-09-06</td>\n",
       "      <td>7.635628</td>\n",
       "      <td>1725.449951</td>\n",
       "      <td>2019-09-27</td>\n",
       "      <td>13174.893613</td>\n",
       "      <td>-0.058936</td>\n",
       "    </tr>\n",
       "    <tr>\n",
       "      <th>3</th>\n",
       "      <td>3</td>\n",
       "      <td>Adrienne Villano</td>\n",
       "      <td>CHE</td>\n",
       "      <td>0.18</td>\n",
       "      <td>36000</td>\n",
       "      <td>2019-09-06</td>\n",
       "      <td>439.820007</td>\n",
       "      <td>2019-09-06</td>\n",
       "      <td>81.851665</td>\n",
       "      <td>413.179993</td>\n",
       "      <td>2019-09-27</td>\n",
       "      <td>33819.470439</td>\n",
       "      <td>-0.060570</td>\n",
       "    </tr>\n",
       "    <tr>\n",
       "      <th>4</th>\n",
       "      <td>4</td>\n",
       "      <td>Adrienne Villano</td>\n",
       "      <td>DOCU</td>\n",
       "      <td>0.05</td>\n",
       "      <td>10000</td>\n",
       "      <td>2019-09-06</td>\n",
       "      <td>56.270000</td>\n",
       "      <td>2019-09-06</td>\n",
       "      <td>177.714589</td>\n",
       "      <td>60.639999</td>\n",
       "      <td>2019-09-27</td>\n",
       "      <td>10776.612564</td>\n",
       "      <td>0.077661</td>\n",
       "    </tr>\n",
       "  </tbody>\n",
       "</table>\n",
       "</div>"
      ],
      "text/plain": [
       "   Unnamed: 0              Name Symbol % of Portfolio  Cost Basis        Date  \\\n",
       "0           0  Adrienne Villano   AAPL           0.07       14000  2019-09-06   \n",
       "1           1  Adrienne Villano  AGTHX           0.11       22000  2019-09-06   \n",
       "2           2  Adrienne Villano   AMZN           0.07       14000  2019-09-06   \n",
       "3           3  Adrienne Villano    CHE           0.18       36000  2019-09-06   \n",
       "4           4  Adrienne Villano   DOCU           0.05       10000  2019-09-06   \n",
       "\n",
       "       Close_x       Day_x  # of Shares      Close_y      Day_y  \\\n",
       "0   213.259995  2019-09-06    65.647568   218.820007 2019-09-27   \n",
       "1    50.000000  2019-09-06   440.000000    48.970001 2019-09-27   \n",
       "2  1833.510010  2019-09-06     7.635628  1725.449951 2019-09-27   \n",
       "3   439.820007  2019-09-06    81.851665   413.179993 2019-09-27   \n",
       "4    56.270000  2019-09-06   177.714589    60.639999 2019-09-27   \n",
       "\n",
       "   Current_Value  Perc_Return  \n",
       "0   14365.001320     0.026072  \n",
       "1   21546.800537    -0.020600  \n",
       "2   13174.893613    -0.058936  \n",
       "3   33819.470439    -0.060570  \n",
       "4   10776.612564     0.077661  "
      ]
     },
     "execution_count": 55,
     "metadata": {},
     "output_type": "execute_result"
    }
   ],
   "source": [
    "detail['Current_Value'] = detail['Close_y'] * detail['# of Shares']\n",
    "detail['Perc_Return'] = detail['Close_y']/detail['Close_x']  -1\n",
    "detail.head(5)"
   ]
  },
  {
   "cell_type": "code",
   "execution_count": 56,
   "metadata": {
    "collapsed": true
   },
   "outputs": [],
   "source": [
    "detail.to_csv(\"pt1-detail.csv\")"
   ]
  },
  {
   "cell_type": "markdown",
   "metadata": {},
   "source": [
    "### Individual Performance"
   ]
  },
  {
   "cell_type": "code",
   "execution_count": 29,
   "metadata": {
    "collapsed": true
   },
   "outputs": [],
   "source": [
    "ranking = detail.groupby(\"Name\")['Cost Basis', 'Current_Value'].sum().reset_index().sort_values(\"Current_Value\", ascending=False)"
   ]
  },
  {
   "cell_type": "code",
   "execution_count": 30,
   "metadata": {
    "scrolled": true
   },
   "outputs": [
    {
     "data": {
      "text/html": [
       "<div>\n",
       "<style scoped>\n",
       "    .dataframe tbody tr th:only-of-type {\n",
       "        vertical-align: middle;\n",
       "    }\n",
       "\n",
       "    .dataframe tbody tr th {\n",
       "        vertical-align: top;\n",
       "    }\n",
       "\n",
       "    .dataframe thead th {\n",
       "        text-align: right;\n",
       "    }\n",
       "</style>\n",
       "<table border=\"1\" class=\"dataframe\">\n",
       "  <thead>\n",
       "    <tr style=\"text-align: right;\">\n",
       "      <th></th>\n",
       "      <th>Name</th>\n",
       "      <th>Cost Basis</th>\n",
       "      <th>Current_Value</th>\n",
       "      <th>Perc_Return</th>\n",
       "      <th>Rank</th>\n",
       "    </tr>\n",
       "  </thead>\n",
       "  <tbody>\n",
       "    <tr>\n",
       "      <th>12</th>\n",
       "      <td>Colton Young</td>\n",
       "      <td>200000</td>\n",
       "      <td>227388.447251</td>\n",
       "      <td>0.136942</td>\n",
       "      <td>1.0</td>\n",
       "    </tr>\n",
       "    <tr>\n",
       "      <th>26</th>\n",
       "      <td>Joelean Mcbride</td>\n",
       "      <td>200000</td>\n",
       "      <td>222726.630388</td>\n",
       "      <td>0.113633</td>\n",
       "      <td>2.0</td>\n",
       "    </tr>\n",
       "    <tr>\n",
       "      <th>47</th>\n",
       "      <td>Robert Kovacs</td>\n",
       "      <td>200000</td>\n",
       "      <td>216018.302691</td>\n",
       "      <td>0.080092</td>\n",
       "      <td>3.0</td>\n",
       "    </tr>\n",
       "    <tr>\n",
       "      <th>29</th>\n",
       "      <td>Kelly Nicholson</td>\n",
       "      <td>200000</td>\n",
       "      <td>204566.838918</td>\n",
       "      <td>0.022834</td>\n",
       "      <td>4.0</td>\n",
       "    </tr>\n",
       "    <tr>\n",
       "      <th>37</th>\n",
       "      <td>Marie Barkamian</td>\n",
       "      <td>200000</td>\n",
       "      <td>204011.835997</td>\n",
       "      <td>0.020059</td>\n",
       "      <td>5.0</td>\n",
       "    </tr>\n",
       "    <tr>\n",
       "      <th>19</th>\n",
       "      <td>Elise Shaver</td>\n",
       "      <td>200000</td>\n",
       "      <td>203794.723531</td>\n",
       "      <td>0.018974</td>\n",
       "      <td>6.0</td>\n",
       "    </tr>\n",
       "    <tr>\n",
       "      <th>40</th>\n",
       "      <td>Nick Capullo</td>\n",
       "      <td>200000</td>\n",
       "      <td>202379.152299</td>\n",
       "      <td>0.011896</td>\n",
       "      <td>7.0</td>\n",
       "    </tr>\n",
       "    <tr>\n",
       "      <th>21</th>\n",
       "      <td>Estelle Genest</td>\n",
       "      <td>200000</td>\n",
       "      <td>202310.237055</td>\n",
       "      <td>0.011551</td>\n",
       "      <td>8.0</td>\n",
       "    </tr>\n",
       "    <tr>\n",
       "      <th>27</th>\n",
       "      <td>Joseph Lindner</td>\n",
       "      <td>200000</td>\n",
       "      <td>200052.791523</td>\n",
       "      <td>0.000264</td>\n",
       "      <td>9.0</td>\n",
       "    </tr>\n",
       "    <tr>\n",
       "      <th>45</th>\n",
       "      <td>Randy Benedict</td>\n",
       "      <td>200000</td>\n",
       "      <td>199943.841909</td>\n",
       "      <td>-0.000281</td>\n",
       "      <td>10.0</td>\n",
       "    </tr>\n",
       "    <tr>\n",
       "      <th>30</th>\n",
       "      <td>Kimberly Matzen</td>\n",
       "      <td>200000</td>\n",
       "      <td>199612.866814</td>\n",
       "      <td>-0.001936</td>\n",
       "      <td>11.0</td>\n",
       "    </tr>\n",
       "    <tr>\n",
       "      <th>5</th>\n",
       "      <td>Anil Mulchandani</td>\n",
       "      <td>200000</td>\n",
       "      <td>199389.495110</td>\n",
       "      <td>-0.003053</td>\n",
       "      <td>12.0</td>\n",
       "    </tr>\n",
       "    <tr>\n",
       "      <th>44</th>\n",
       "      <td>Philip Cortese</td>\n",
       "      <td>200000</td>\n",
       "      <td>199272.534794</td>\n",
       "      <td>-0.003637</td>\n",
       "      <td>13.0</td>\n",
       "    </tr>\n",
       "    <tr>\n",
       "      <th>6</th>\n",
       "      <td>Antigona Beshello</td>\n",
       "      <td>200000</td>\n",
       "      <td>199250.063128</td>\n",
       "      <td>-0.003750</td>\n",
       "      <td>14.0</td>\n",
       "    </tr>\n",
       "    <tr>\n",
       "      <th>54</th>\n",
       "      <td>Trudy Seeber</td>\n",
       "      <td>200000</td>\n",
       "      <td>198695.084459</td>\n",
       "      <td>-0.006525</td>\n",
       "      <td>15.0</td>\n",
       "    </tr>\n",
       "    <tr>\n",
       "      <th>7</th>\n",
       "      <td>Barb Derian</td>\n",
       "      <td>200000</td>\n",
       "      <td>198637.855588</td>\n",
       "      <td>-0.006811</td>\n",
       "      <td>16.0</td>\n",
       "    </tr>\n",
       "    <tr>\n",
       "      <th>41</th>\n",
       "      <td>Nori Lansing</td>\n",
       "      <td>200000</td>\n",
       "      <td>198522.243365</td>\n",
       "      <td>-0.007389</td>\n",
       "      <td>17.0</td>\n",
       "    </tr>\n",
       "    <tr>\n",
       "      <th>9</th>\n",
       "      <td>Bradley Bonfante</td>\n",
       "      <td>200000</td>\n",
       "      <td>197617.039871</td>\n",
       "      <td>-0.011915</td>\n",
       "      <td>18.0</td>\n",
       "    </tr>\n",
       "    <tr>\n",
       "      <th>42</th>\n",
       "      <td>Pete Lindner</td>\n",
       "      <td>200000</td>\n",
       "      <td>197223.353119</td>\n",
       "      <td>-0.013883</td>\n",
       "      <td>19.0</td>\n",
       "    </tr>\n",
       "    <tr>\n",
       "      <th>31</th>\n",
       "      <td>Krista Nash</td>\n",
       "      <td>200000</td>\n",
       "      <td>197208.163257</td>\n",
       "      <td>-0.013959</td>\n",
       "      <td>20.0</td>\n",
       "    </tr>\n",
       "    <tr>\n",
       "      <th>22</th>\n",
       "      <td>Gregory Hanselman</td>\n",
       "      <td>200000</td>\n",
       "      <td>197118.592162</td>\n",
       "      <td>-0.014407</td>\n",
       "      <td>21.0</td>\n",
       "    </tr>\n",
       "    <tr>\n",
       "      <th>17</th>\n",
       "      <td>Dominick Baker</td>\n",
       "      <td>200000</td>\n",
       "      <td>196687.628289</td>\n",
       "      <td>-0.016562</td>\n",
       "      <td>22.0</td>\n",
       "    </tr>\n",
       "    <tr>\n",
       "      <th>16</th>\n",
       "      <td>Deanna Coleman</td>\n",
       "      <td>200000</td>\n",
       "      <td>196510.868246</td>\n",
       "      <td>-0.017446</td>\n",
       "      <td>23.0</td>\n",
       "    </tr>\n",
       "    <tr>\n",
       "      <th>48</th>\n",
       "      <td>Ryan St. Peter</td>\n",
       "      <td>200000</td>\n",
       "      <td>196107.757041</td>\n",
       "      <td>-0.019461</td>\n",
       "      <td>24.0</td>\n",
       "    </tr>\n",
       "    <tr>\n",
       "      <th>14</th>\n",
       "      <td>Danish Sharpe</td>\n",
       "      <td>200000</td>\n",
       "      <td>195946.818398</td>\n",
       "      <td>-0.020266</td>\n",
       "      <td>25.0</td>\n",
       "    </tr>\n",
       "  </tbody>\n",
       "</table>\n",
       "</div>"
      ],
      "text/plain": [
       "                  Name  Cost Basis  Current_Value  Perc_Return  Rank\n",
       "12        Colton Young      200000  227388.447251     0.136942   1.0\n",
       "26     Joelean Mcbride      200000  222726.630388     0.113633   2.0\n",
       "47       Robert Kovacs      200000  216018.302691     0.080092   3.0\n",
       "29     Kelly Nicholson      200000  204566.838918     0.022834   4.0\n",
       "37     Marie Barkamian      200000  204011.835997     0.020059   5.0\n",
       "19        Elise Shaver      200000  203794.723531     0.018974   6.0\n",
       "40        Nick Capullo      200000  202379.152299     0.011896   7.0\n",
       "21      Estelle Genest      200000  202310.237055     0.011551   8.0\n",
       "27      Joseph Lindner      200000  200052.791523     0.000264   9.0\n",
       "45      Randy Benedict      200000  199943.841909    -0.000281  10.0\n",
       "30     Kimberly Matzen      200000  199612.866814    -0.001936  11.0\n",
       "5     Anil Mulchandani      200000  199389.495110    -0.003053  12.0\n",
       "44      Philip Cortese      200000  199272.534794    -0.003637  13.0\n",
       "6   Antigona Beshello       200000  199250.063128    -0.003750  14.0\n",
       "54        Trudy Seeber      200000  198695.084459    -0.006525  15.0\n",
       "7          Barb Derian      200000  198637.855588    -0.006811  16.0\n",
       "41        Nori Lansing      200000  198522.243365    -0.007389  17.0\n",
       "9    Bradley Bonfante       200000  197617.039871    -0.011915  18.0\n",
       "42        Pete Lindner      200000  197223.353119    -0.013883  19.0\n",
       "31         Krista Nash      200000  197208.163257    -0.013959  20.0\n",
       "22   Gregory Hanselman      200000  197118.592162    -0.014407  21.0\n",
       "17      Dominick Baker      200000  196687.628289    -0.016562  22.0\n",
       "16      Deanna Coleman      200000  196510.868246    -0.017446  23.0\n",
       "48      Ryan St. Peter      200000  196107.757041    -0.019461  24.0\n",
       "14       Danish Sharpe      200000  195946.818398    -0.020266  25.0"
      ]
     },
     "execution_count": 30,
     "metadata": {},
     "output_type": "execute_result"
    }
   ],
   "source": [
    "ranking['Perc_Return'] = ranking['Current_Value']/ranking['Cost Basis'] -1\n",
    "ranking['Rank'] = ranking['Perc_Return'].rank(ascending=False)\n",
    "ranking.head(25)"
   ]
  },
  {
   "cell_type": "code",
   "execution_count": 31,
   "metadata": {
    "collapsed": true
   },
   "outputs": [],
   "source": [
    "ranking.to_csv(\"individual rankings.csv\")"
   ]
  },
  {
   "cell_type": "markdown",
   "metadata": {},
   "source": [
    "### Best Individual Stock Returns"
   ]
  },
  {
   "cell_type": "code",
   "execution_count": 32,
   "metadata": {
    "collapsed": true
   },
   "outputs": [],
   "source": [
    "best_stocks = detail.drop_duplicates(['Symbol']).reset_index().sort_values(['Perc_Return'], ascending=False)"
   ]
  },
  {
   "cell_type": "code",
   "execution_count": 33,
   "metadata": {},
   "outputs": [
    {
     "data": {
      "text/html": [
       "<div>\n",
       "<style scoped>\n",
       "    .dataframe tbody tr th:only-of-type {\n",
       "        vertical-align: middle;\n",
       "    }\n",
       "\n",
       "    .dataframe tbody tr th {\n",
       "        vertical-align: top;\n",
       "    }\n",
       "\n",
       "    .dataframe thead th {\n",
       "        text-align: right;\n",
       "    }\n",
       "</style>\n",
       "<table border=\"1\" class=\"dataframe\">\n",
       "  <thead>\n",
       "    <tr style=\"text-align: right;\">\n",
       "      <th></th>\n",
       "      <th>Symbol</th>\n",
       "      <th>Perc_Return</th>\n",
       "    </tr>\n",
       "  </thead>\n",
       "  <tbody>\n",
       "    <tr>\n",
       "      <th>79</th>\n",
       "      <td>PIR</td>\n",
       "      <td>0.764610</td>\n",
       "    </tr>\n",
       "    <tr>\n",
       "      <th>165</th>\n",
       "      <td>HOV</td>\n",
       "      <td>0.451537</td>\n",
       "    </tr>\n",
       "    <tr>\n",
       "      <th>171</th>\n",
       "      <td>HOME</td>\n",
       "      <td>0.291437</td>\n",
       "    </tr>\n",
       "    <tr>\n",
       "      <th>234</th>\n",
       "      <td>RVNC</td>\n",
       "      <td>0.265869</td>\n",
       "    </tr>\n",
       "    <tr>\n",
       "      <th>106</th>\n",
       "      <td>GME</td>\n",
       "      <td>0.238979</td>\n",
       "    </tr>\n",
       "    <tr>\n",
       "      <th>203</th>\n",
       "      <td>FNMAL</td>\n",
       "      <td>0.209600</td>\n",
       "    </tr>\n",
       "    <tr>\n",
       "      <th>108</th>\n",
       "      <td>UEPS</td>\n",
       "      <td>0.197452</td>\n",
       "    </tr>\n",
       "    <tr>\n",
       "      <th>207</th>\n",
       "      <td>ACER</td>\n",
       "      <td>0.174377</td>\n",
       "    </tr>\n",
       "    <tr>\n",
       "      <th>41</th>\n",
       "      <td>CPRI</td>\n",
       "      <td>0.162095</td>\n",
       "    </tr>\n",
       "    <tr>\n",
       "      <th>148</th>\n",
       "      <td>ATLC</td>\n",
       "      <td>0.150065</td>\n",
       "    </tr>\n",
       "  </tbody>\n",
       "</table>\n",
       "</div>"
      ],
      "text/plain": [
       "    Symbol  Perc_Return\n",
       "79     PIR     0.764610\n",
       "165    HOV     0.451537\n",
       "171   HOME     0.291437\n",
       "234   RVNC     0.265869\n",
       "106    GME     0.238979\n",
       "203  FNMAL     0.209600\n",
       "108   UEPS     0.197452\n",
       "207   ACER     0.174377\n",
       "41    CPRI     0.162095\n",
       "148   ATLC     0.150065"
      ]
     },
     "execution_count": 33,
     "metadata": {},
     "output_type": "execute_result"
    }
   ],
   "source": [
    "best_stocks = best_stocks.loc[:, ['Symbol', 'Perc_Return']]\n",
    "best_stocks.head(10)"
   ]
  },
  {
   "cell_type": "code",
   "execution_count": 34,
   "metadata": {
    "collapsed": true
   },
   "outputs": [],
   "source": [
    "best_stocks.to_csv(\"stock ranking.csv\")"
   ]
  },
  {
   "cell_type": "markdown",
   "metadata": {},
   "source": [
    "# Trend"
   ]
  },
  {
   "cell_type": "code",
   "execution_count": null,
   "metadata": {
    "collapsed": true
   },
   "outputs": [],
   "source": [
    "#Pull Only necessary columns\n",
    "combined = combined.loc[:, ['Name', 'Symbol', '# of Shares']]"
   ]
  },
  {
   "cell_type": "code",
   "execution_count": null,
   "metadata": {
    "collapsed": true
   },
   "outputs": [],
   "source": [
    "Price_History = stockData(stocks['Ticker'], '2019-08-01', '2019-09-06')"
   ]
  },
  {
   "cell_type": "code",
   "execution_count": null,
   "metadata": {
    "collapsed": true
   },
   "outputs": [],
   "source": [
    "historical = pd.merge(combined, Price_History, how = 'outer', on = \"Symbol\", validate=\"many_to_many\")\n"
   ]
  },
  {
   "cell_type": "code",
   "execution_count": null,
   "metadata": {
    "collapsed": true
   },
   "outputs": [],
   "source": [
    "historical['Value'] = historical['# of Shares'] * historical['Close']\n",
    "historical.head()"
   ]
  },
  {
   "cell_type": "code",
   "execution_count": null,
   "metadata": {
    "collapsed": true
   },
   "outputs": [],
   "source": [
    "trend_data = historical.groupby(['Name', 'Day'])['Value'].sum().reset_index().sort_values(['Name', 'Day'])"
   ]
  },
  {
   "cell_type": "code",
   "execution_count": null,
   "metadata": {
    "collapsed": true
   },
   "outputs": [],
   "source": [
    "trend_data.head()"
   ]
  },
  {
   "cell_type": "code",
   "execution_count": 1,
   "metadata": {
    "collapsed": true
   },
   "outputs": [],
   "source": [
    "import chart_studio.plotly as py\n",
    "import plotly.graph_objs as go\n",
    "from plotly.offline import iplot, init_notebook_mode"
   ]
  }
 ],
 "metadata": {
  "kernelspec": {
   "display_name": "Python 3",
   "language": "python",
   "name": "python3"
  },
  "language_info": {
   "codemirror_mode": {
    "name": "ipython",
    "version": 3
   },
   "file_extension": ".py",
   "mimetype": "text/x-python",
   "name": "python",
   "nbconvert_exporter": "python",
   "pygments_lexer": "ipython3",
   "version": "3.6.2"
  }
 },
 "nbformat": 4,
 "nbformat_minor": 2
}
